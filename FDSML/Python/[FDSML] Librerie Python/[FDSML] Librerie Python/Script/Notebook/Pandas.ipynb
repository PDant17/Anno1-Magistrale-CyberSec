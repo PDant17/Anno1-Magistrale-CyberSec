{
 "cells": [
  {
   "cell_type": "markdown",
   "metadata": {},
   "source": [
    "# Pandas"
   ]
  },
  {
   "cell_type": "code",
   "execution_count": 1,
   "metadata": {},
   "outputs": [
    {
     "name": "stdout",
     "output_type": "stream",
     "text": [
      "Requirement already satisfied: pandas in c:\\users\\giand\\anaconda3\\lib\\site-packages (2.2.2)\n",
      "Requirement already satisfied: numpy>=1.26.0 in c:\\users\\giand\\anaconda3\\lib\\site-packages (from pandas) (1.26.4)\n",
      "Requirement already satisfied: python-dateutil>=2.8.2 in c:\\users\\giand\\anaconda3\\lib\\site-packages (from pandas) (2.9.0.post0)\n",
      "Requirement already satisfied: pytz>=2020.1 in c:\\users\\giand\\anaconda3\\lib\\site-packages (from pandas) (2024.1)\n",
      "Requirement already satisfied: tzdata>=2022.7 in c:\\users\\giand\\anaconda3\\lib\\site-packages (from pandas) (2023.3)\n",
      "Requirement already satisfied: six>=1.5 in c:\\users\\giand\\anaconda3\\lib\\site-packages (from python-dateutil>=2.8.2->pandas) (1.16.0)\n",
      "Note: you may need to restart the kernel to use updated packages.\n"
     ]
    }
   ],
   "source": [
    "pip install pandas"
   ]
  },
  {
   "cell_type": "markdown",
   "metadata": {},
   "source": [
    "Version"
   ]
  },
  {
   "cell_type": "code",
   "execution_count": 2,
   "metadata": {},
   "outputs": [
    {
     "name": "stdout",
     "output_type": "stream",
     "text": [
      "Pandas version:2.2.2\n"
     ]
    }
   ],
   "source": [
    "import pandas as pd\n",
    "\n",
    "print(\"Pandas version:{}\".format(pd.__version__))"
   ]
  },
  {
   "cell_type": "markdown",
   "metadata": {},
   "source": [
    "## Pandas Series"
   ]
  },
  {
   "cell_type": "code",
   "execution_count": 3,
   "metadata": {},
   "outputs": [],
   "source": [
    "import pandas as pd\n",
    "\n",
    "#Definition of serie of floats\n",
    "serie_1 = pd.Series([1., 2., 3.])"
   ]
  },
  {
   "cell_type": "code",
   "execution_count": 4,
   "metadata": {},
   "outputs": [
    {
     "name": "stdout",
     "output_type": "stream",
     "text": [
      "serie_1:\n",
      "0    1.0\n",
      "1    2.0\n",
      "2    3.0\n",
      "dtype: float64\n"
     ]
    }
   ],
   "source": [
    "#Print content of serie_1 with index\n",
    "print (\"serie_1:\")\n",
    "print (serie_1)"
   ]
  },
  {
   "cell_type": "code",
   "execution_count": 5,
   "metadata": {},
   "outputs": [],
   "source": [
    "#Definition of serie of floats\n",
    "serie_2 = pd.Series([1., 2., 3.], index=['a', 'b', 'c'])"
   ]
  },
  {
   "cell_type": "code",
   "execution_count": 6,
   "metadata": {},
   "outputs": [
    {
     "name": "stdout",
     "output_type": "stream",
     "text": [
      "serie_2:\n",
      "a    1.0\n",
      "b    2.0\n",
      "c    3.0\n",
      "dtype: float64\n"
     ]
    }
   ],
   "source": [
    "#Print content of serie_2\n",
    "print(\"serie_2:\")\n",
    "print(serie_2)"
   ]
  },
  {
   "cell_type": "markdown",
   "metadata": {},
   "source": [
    "## DataFrame"
   ]
  },
  {
   "cell_type": "markdown",
   "metadata": {},
   "source": [
    "pip install numpy"
   ]
  },
  {
   "cell_type": "markdown",
   "metadata": {},
   "source": [
    "### Create a dataframe from Numpy Array"
   ]
  },
  {
   "cell_type": "code",
   "execution_count": 7,
   "metadata": {},
   "outputs": [],
   "source": [
    "import numpy as np\n",
    "import pandas as pd\n",
    "\n",
    "#Define 2d NumPy array\n",
    "arr_2d = [(1,2),(3,4)]"
   ]
  },
  {
   "cell_type": "code",
   "execution_count": 8,
   "metadata": {},
   "outputs": [],
   "source": [
    "#Convert 2d Numpy array to pandas Data frame\n",
    "df_arr_2d = pd.DataFrame(arr_2d)"
   ]
  },
  {
   "cell_type": "code",
   "execution_count": 9,
   "metadata": {},
   "outputs": [
    {
     "name": "stdout",
     "output_type": "stream",
     "text": [
      "Data Frame:\n",
      "   0  1\n",
      "0  1  2\n",
      "1  3  4\n"
     ]
    }
   ],
   "source": [
    "#Print content of df_arr_2d\n",
    "print(\"Data Frame:\")\n",
    "print(df_arr_2d)"
   ]
  },
  {
   "cell_type": "markdown",
   "metadata": {},
   "source": [
    "### Create a dataframe from Dictionary"
   ]
  },
  {
   "cell_type": "code",
   "execution_count": 10,
   "metadata": {},
   "outputs": [],
   "source": [
    "#Define dictionary dic\n",
    "dic = {'Name': [\"John\", \"Smith\"], 'Age': [30, 40]}"
   ]
  },
  {
   "cell_type": "code",
   "execution_count": 11,
   "metadata": {},
   "outputs": [],
   "source": [
    "#Convert dictionary to pandas Data Frame\n",
    "df_dic= pd.DataFrame(dic)"
   ]
  },
  {
   "cell_type": "code",
   "execution_count": 12,
   "metadata": {},
   "outputs": [
    {
     "name": "stdout",
     "output_type": "stream",
     "text": [
      "Data Frame with dictionary:\n",
      "    Name  Age\n",
      "0   John   30\n",
      "1  Smith   40\n"
     ]
    }
   ],
   "source": [
    "#Print content of df_dic\n",
    "print(\"Data Frame with dictionary:\")\n",
    "print(df_dic)"
   ]
  },
  {
   "cell_type": "markdown",
   "metadata": {},
   "source": [
    "### Create a dataframe from a range of value"
   ]
  },
  {
   "cell_type": "code",
   "execution_count": 13,
   "metadata": {},
   "outputs": [],
   "source": [
    "import pandas as pd"
   ]
  },
  {
   "cell_type": "code",
   "execution_count": 14,
   "metadata": {},
   "outputs": [],
   "source": [
    "#Create date using pandas.data_range()\n",
    "dates_d = pd.date_range('20300101', periods=6, freq='D')"
   ]
  },
  {
   "cell_type": "code",
   "execution_count": 15,
   "metadata": {},
   "outputs": [
    {
     "name": "stdout",
     "output_type": "stream",
     "text": [
      "Day: DatetimeIndex(['2030-01-01', '2030-01-02', '2030-01-03', '2030-01-04',\n",
      "               '2030-01-05', '2030-01-06'],\n",
      "              dtype='datetime64[ns]', freq='D')\n"
     ]
    }
   ],
   "source": [
    "#Print content of dates_d\n",
    "print('Day:', dates_d)"
   ]
  },
  {
   "cell_type": "markdown",
   "metadata": {},
   "source": [
    "## Methods with DataFrame"
   ]
  },
  {
   "cell_type": "code",
   "execution_count": 16,
   "metadata": {},
   "outputs": [],
   "source": [
    "import numpy as np\n",
    "import pandas as pd"
   ]
  },
  {
   "cell_type": "code",
   "execution_count": 17,
   "metadata": {},
   "outputs": [
    {
     "name": "stderr",
     "output_type": "stream",
     "text": [
      "C:\\Users\\giand\\AppData\\Local\\Temp\\ipykernel_22764\\1888933242.py:2: FutureWarning: 'M' is deprecated and will be removed in a future version, please use 'ME' instead.\n",
      "  dates_m = pd.date_range('20300101', periods=6, freq='M')\n"
     ]
    }
   ],
   "source": [
    "#Create date using pandas.data_range()\n",
    "dates_m = pd.date_range('20300101', periods=6, freq='M')\n",
    "\n",
    "#Create a random sequence. The sequence has 4 columns and 6 rows\n",
    "random = np.random.randn(6,4)\n",
    "\n",
    "# Use dates_m as an index for the data frame\n",
    "# # Each row will be given a \"name\" or an index, corresponding to a date.\n",
    "df = pd.DataFrame(random, index=dates_m,columns=list('ABCD'))"
   ]
  },
  {
   "cell_type": "markdown",
   "metadata": {},
   "source": [
    "How to print the content of the Dataframe"
   ]
  },
  {
   "cell_type": "code",
   "execution_count": 18,
   "metadata": {},
   "outputs": [
    {
     "name": "stdout",
     "output_type": "stream",
     "text": [
      "Data Frame:\n"
     ]
    },
    {
     "data": {
      "text/html": [
       "<div>\n",
       "<style scoped>\n",
       "    .dataframe tbody tr th:only-of-type {\n",
       "        vertical-align: middle;\n",
       "    }\n",
       "\n",
       "    .dataframe tbody tr th {\n",
       "        vertical-align: top;\n",
       "    }\n",
       "\n",
       "    .dataframe thead th {\n",
       "        text-align: right;\n",
       "    }\n",
       "</style>\n",
       "<table border=\"1\" class=\"dataframe\">\n",
       "  <thead>\n",
       "    <tr style=\"text-align: right;\">\n",
       "      <th></th>\n",
       "      <th>A</th>\n",
       "      <th>B</th>\n",
       "      <th>C</th>\n",
       "      <th>D</th>\n",
       "    </tr>\n",
       "  </thead>\n",
       "  <tbody>\n",
       "    <tr>\n",
       "      <th>2030-01-31</th>\n",
       "      <td>0.494994</td>\n",
       "      <td>-1.351584</td>\n",
       "      <td>0.375041</td>\n",
       "      <td>-0.668275</td>\n",
       "    </tr>\n",
       "    <tr>\n",
       "      <th>2030-02-28</th>\n",
       "      <td>-0.799910</td>\n",
       "      <td>1.006647</td>\n",
       "      <td>0.282631</td>\n",
       "      <td>0.376301</td>\n",
       "    </tr>\n",
       "    <tr>\n",
       "      <th>2030-03-31</th>\n",
       "      <td>0.903355</td>\n",
       "      <td>-0.089329</td>\n",
       "      <td>1.386775</td>\n",
       "      <td>0.573385</td>\n",
       "    </tr>\n",
       "    <tr>\n",
       "      <th>2030-04-30</th>\n",
       "      <td>-0.045581</td>\n",
       "      <td>-1.120798</td>\n",
       "      <td>1.131650</td>\n",
       "      <td>-0.477144</td>\n",
       "    </tr>\n",
       "    <tr>\n",
       "      <th>2030-05-31</th>\n",
       "      <td>1.497884</td>\n",
       "      <td>-0.896062</td>\n",
       "      <td>0.599296</td>\n",
       "      <td>-0.500316</td>\n",
       "    </tr>\n",
       "    <tr>\n",
       "      <th>2030-06-30</th>\n",
       "      <td>0.886852</td>\n",
       "      <td>0.733054</td>\n",
       "      <td>1.532167</td>\n",
       "      <td>-1.366194</td>\n",
       "    </tr>\n",
       "  </tbody>\n",
       "</table>\n",
       "</div>"
      ],
      "text/plain": [
       "                   A         B         C         D\n",
       "2030-01-31  0.494994 -1.351584  0.375041 -0.668275\n",
       "2030-02-28 -0.799910  1.006647  0.282631  0.376301\n",
       "2030-03-31  0.903355 -0.089329  1.386775  0.573385\n",
       "2030-04-30 -0.045581 -1.120798  1.131650 -0.477144\n",
       "2030-05-31  1.497884 -0.896062  0.599296 -0.500316\n",
       "2030-06-30  0.886852  0.733054  1.532167 -1.366194"
      ]
     },
     "execution_count": 18,
     "metadata": {},
     "output_type": "execute_result"
    }
   ],
   "source": [
    "#Print content of df\n",
    "print(\"Data Frame:\")\n",
    "df"
   ]
  },
  {
   "cell_type": "markdown",
   "metadata": {},
   "source": [
    "Stampa il primo elemento"
   ]
  },
  {
   "cell_type": "code",
   "execution_count": 19,
   "metadata": {},
   "outputs": [
    {
     "name": "stdout",
     "output_type": "stream",
     "text": [
      "tail:\n"
     ]
    },
    {
     "data": {
      "text/html": [
       "<div>\n",
       "<style scoped>\n",
       "    .dataframe tbody tr th:only-of-type {\n",
       "        vertical-align: middle;\n",
       "    }\n",
       "\n",
       "    .dataframe tbody tr th {\n",
       "        vertical-align: top;\n",
       "    }\n",
       "\n",
       "    .dataframe thead th {\n",
       "        text-align: right;\n",
       "    }\n",
       "</style>\n",
       "<table border=\"1\" class=\"dataframe\">\n",
       "  <thead>\n",
       "    <tr style=\"text-align: right;\">\n",
       "      <th></th>\n",
       "      <th>A</th>\n",
       "      <th>B</th>\n",
       "      <th>C</th>\n",
       "      <th>D</th>\n",
       "    </tr>\n",
       "  </thead>\n",
       "  <tbody>\n",
       "    <tr>\n",
       "      <th>2030-06-30</th>\n",
       "      <td>0.886852</td>\n",
       "      <td>0.733054</td>\n",
       "      <td>1.532167</td>\n",
       "      <td>-1.366194</td>\n",
       "    </tr>\n",
       "  </tbody>\n",
       "</table>\n",
       "</div>"
      ],
      "text/plain": [
       "                   A         B         C         D\n",
       "2030-06-30  0.886852  0.733054  1.532167 -1.366194"
      ]
     },
     "execution_count": 19,
     "metadata": {},
     "output_type": "execute_result"
    }
   ],
   "source": [
    "#Use method tail()\n",
    "print (\"tail:\")\n",
    "df.tail(1)"
   ]
  },
  {
   "cell_type": "markdown",
   "metadata": {},
   "source": [
    "Stampa le prime righe n"
   ]
  },
  {
   "cell_type": "code",
   "execution_count": 20,
   "metadata": {},
   "outputs": [
    {
     "name": "stdout",
     "output_type": "stream",
     "text": [
      "head:\n"
     ]
    },
    {
     "data": {
      "text/html": [
       "<div>\n",
       "<style scoped>\n",
       "    .dataframe tbody tr th:only-of-type {\n",
       "        vertical-align: middle;\n",
       "    }\n",
       "\n",
       "    .dataframe tbody tr th {\n",
       "        vertical-align: top;\n",
       "    }\n",
       "\n",
       "    .dataframe thead th {\n",
       "        text-align: right;\n",
       "    }\n",
       "</style>\n",
       "<table border=\"1\" class=\"dataframe\">\n",
       "  <thead>\n",
       "    <tr style=\"text-align: right;\">\n",
       "      <th></th>\n",
       "      <th>A</th>\n",
       "      <th>B</th>\n",
       "      <th>C</th>\n",
       "      <th>D</th>\n",
       "    </tr>\n",
       "  </thead>\n",
       "  <tbody>\n",
       "    <tr>\n",
       "      <th>2030-01-31</th>\n",
       "      <td>0.494994</td>\n",
       "      <td>-1.351584</td>\n",
       "      <td>0.375041</td>\n",
       "      <td>-0.668275</td>\n",
       "    </tr>\n",
       "  </tbody>\n",
       "</table>\n",
       "</div>"
      ],
      "text/plain": [
       "                   A         B         C         D\n",
       "2030-01-31  0.494994 -1.351584  0.375041 -0.668275"
      ]
     },
     "execution_count": 20,
     "metadata": {},
     "output_type": "execute_result"
    }
   ],
   "source": [
    "#Use method head()\n",
    "print(\"head:\")\n",
    "df.head(n=1)"
   ]
  },
  {
   "cell_type": "markdown",
   "metadata": {},
   "source": [
    "Stampa la composizione statistica del Dataframe"
   ]
  },
  {
   "cell_type": "code",
   "execution_count": 21,
   "metadata": {},
   "outputs": [
    {
     "name": "stdout",
     "output_type": "stream",
     "text": [
      "dataset:\n"
     ]
    },
    {
     "data": {
      "text/html": [
       "<div>\n",
       "<style scoped>\n",
       "    .dataframe tbody tr th:only-of-type {\n",
       "        vertical-align: middle;\n",
       "    }\n",
       "\n",
       "    .dataframe tbody tr th {\n",
       "        vertical-align: top;\n",
       "    }\n",
       "\n",
       "    .dataframe thead th {\n",
       "        text-align: right;\n",
       "    }\n",
       "</style>\n",
       "<table border=\"1\" class=\"dataframe\">\n",
       "  <thead>\n",
       "    <tr style=\"text-align: right;\">\n",
       "      <th></th>\n",
       "      <th>A</th>\n",
       "      <th>B</th>\n",
       "      <th>C</th>\n",
       "      <th>D</th>\n",
       "    </tr>\n",
       "  </thead>\n",
       "  <tbody>\n",
       "    <tr>\n",
       "      <th>count</th>\n",
       "      <td>6.000000</td>\n",
       "      <td>6.000000</td>\n",
       "      <td>6.000000</td>\n",
       "      <td>6.000000</td>\n",
       "    </tr>\n",
       "    <tr>\n",
       "      <th>mean</th>\n",
       "      <td>0.489599</td>\n",
       "      <td>-0.286345</td>\n",
       "      <td>0.884593</td>\n",
       "      <td>-0.343707</td>\n",
       "    </tr>\n",
       "    <tr>\n",
       "      <th>std</th>\n",
       "      <td>0.811779</td>\n",
       "      <td>0.995251</td>\n",
       "      <td>0.535905</td>\n",
       "      <td>0.714510</td>\n",
       "    </tr>\n",
       "    <tr>\n",
       "      <th>min</th>\n",
       "      <td>-0.799910</td>\n",
       "      <td>-1.351584</td>\n",
       "      <td>0.282631</td>\n",
       "      <td>-1.366194</td>\n",
       "    </tr>\n",
       "    <tr>\n",
       "      <th>25%</th>\n",
       "      <td>0.089563</td>\n",
       "      <td>-1.064614</td>\n",
       "      <td>0.431105</td>\n",
       "      <td>-0.626286</td>\n",
       "    </tr>\n",
       "    <tr>\n",
       "      <th>50%</th>\n",
       "      <td>0.690923</td>\n",
       "      <td>-0.492695</td>\n",
       "      <td>0.865473</td>\n",
       "      <td>-0.488730</td>\n",
       "    </tr>\n",
       "    <tr>\n",
       "      <th>75%</th>\n",
       "      <td>0.899230</td>\n",
       "      <td>0.527458</td>\n",
       "      <td>1.322994</td>\n",
       "      <td>0.162939</td>\n",
       "    </tr>\n",
       "    <tr>\n",
       "      <th>max</th>\n",
       "      <td>1.497884</td>\n",
       "      <td>1.006647</td>\n",
       "      <td>1.532167</td>\n",
       "      <td>0.573385</td>\n",
       "    </tr>\n",
       "  </tbody>\n",
       "</table>\n",
       "</div>"
      ],
      "text/plain": [
       "              A         B         C         D\n",
       "count  6.000000  6.000000  6.000000  6.000000\n",
       "mean   0.489599 -0.286345  0.884593 -0.343707\n",
       "std    0.811779  0.995251  0.535905  0.714510\n",
       "min   -0.799910 -1.351584  0.282631 -1.366194\n",
       "25%    0.089563 -1.064614  0.431105 -0.626286\n",
       "50%    0.690923 -0.492695  0.865473 -0.488730\n",
       "75%    0.899230  0.527458  1.322994  0.162939\n",
       "max    1.497884  1.006647  1.532167  0.573385"
      ]
     },
     "execution_count": 21,
     "metadata": {},
     "output_type": "execute_result"
    }
   ],
   "source": [
    "#Use method describe()\n",
    "print (\"dataset:\")\n",
    "df.describe()"
   ]
  },
  {
   "cell_type": "markdown",
   "metadata": {},
   "source": [
    "Stampa le informazioni sul dataframe"
   ]
  },
  {
   "cell_type": "code",
   "execution_count": 22,
   "metadata": {},
   "outputs": [
    {
     "name": "stdout",
     "output_type": "stream",
     "text": [
      "dataset:\n",
      "<class 'pandas.core.frame.DataFrame'>\n",
      "DatetimeIndex: 6 entries, 2030-01-31 to 2030-06-30\n",
      "Freq: ME\n",
      "Data columns (total 4 columns):\n",
      " #   Column  Non-Null Count  Dtype  \n",
      "---  ------  --------------  -----  \n",
      " 0   A       6 non-null      float64\n",
      " 1   B       6 non-null      float64\n",
      " 2   C       6 non-null      float64\n",
      " 3   D       6 non-null      float64\n",
      "dtypes: float64(4)\n",
      "memory usage: 240.0 bytes\n"
     ]
    }
   ],
   "source": [
    "#Use method info()\n",
    "print (\"dataset:\")\n",
    "df.info()"
   ]
  },
  {
   "cell_type": "markdown",
   "metadata": {},
   "source": [
    "Conta le righe"
   ]
  },
  {
   "cell_type": "code",
   "execution_count": 23,
   "metadata": {},
   "outputs": [
    {
     "name": "stdout",
     "output_type": "stream",
     "text": [
      "dataset:\n"
     ]
    },
    {
     "data": {
      "text/plain": [
       "A    6\n",
       "B    6\n",
       "C    6\n",
       "D    6\n",
       "dtype: int64"
      ]
     },
     "execution_count": 23,
     "metadata": {},
     "output_type": "execute_result"
    }
   ],
   "source": [
    "#Use method count()\n",
    "print (\"dataset:\")\n",
    "df.count()"
   ]
  },
  {
   "cell_type": "markdown",
   "metadata": {},
   "source": [
    "Print columns using names"
   ]
  },
  {
   "cell_type": "code",
   "execution_count": 24,
   "metadata": {},
   "outputs": [
    {
     "name": "stdout",
     "output_type": "stream",
     "text": [
      "first column:\n",
      "2030-01-31    0.494994\n",
      "2030-02-28   -0.799910\n",
      "2030-03-31    0.903355\n",
      "2030-04-30   -0.045581\n",
      "2030-05-31    1.497884\n",
      "2030-06-30    0.886852\n",
      "Freq: ME, Name: A, dtype: float64\n"
     ]
    }
   ],
   "source": [
    "#Print column using name\n",
    "print (\"first column:\")\n",
    "print(df['A'])"
   ]
  },
  {
   "cell_type": "code",
   "execution_count": 25,
   "metadata": {},
   "outputs": [
    {
     "name": "stdout",
     "output_type": "stream",
     "text": [
      "first two colums:\n",
      "                   A         B\n",
      "2030-01-31  0.494994 -1.351584\n",
      "2030-02-28 -0.799910  1.006647\n",
      "2030-03-31  0.903355 -0.089329\n",
      "2030-04-30 -0.045581 -1.120798\n",
      "2030-05-31  1.497884 -0.896062\n",
      "2030-06-30  0.886852  0.733054\n"
     ]
    }
   ],
   "source": [
    "#Print column using name\n",
    "print (\"first two colums:\")\n",
    "print(df[['A','B']])"
   ]
  },
  {
   "cell_type": "markdown",
   "metadata": {},
   "source": [
    "Print row using index"
   ]
  },
  {
   "cell_type": "code",
   "execution_count": 26,
   "metadata": {},
   "outputs": [
    {
     "name": "stdout",
     "output_type": "stream",
     "text": [
      "first row:\n",
      "                   A         B         C         D\n",
      "2030-01-31  0.494994 -1.351584  0.375041 -0.668275\n"
     ]
    }
   ],
   "source": [
    "#Print row using index\n",
    "print (\"first row:\")\n",
    "print(df[0:1])"
   ]
  },
  {
   "cell_type": "code",
   "execution_count": 27,
   "metadata": {},
   "outputs": [
    {
     "name": "stdout",
     "output_type": "stream",
     "text": [
      "first three rows:\n",
      "                   A         B         C         D\n",
      "2030-01-31  0.494994 -1.351584  0.375041 -0.668275\n",
      "2030-02-28 -0.799910  1.006647  0.282631  0.376301\n",
      "2030-03-31  0.903355 -0.089329  1.386775  0.573385\n"
     ]
    }
   ],
   "source": [
    "#Print row using index\n",
    "print (\"first three rows:\")\n",
    "print(df[0:3])"
   ]
  },
  {
   "cell_type": "markdown",
   "metadata": {},
   "source": [
    "## Loc Function"
   ]
  },
  {
   "cell_type": "code",
   "execution_count": 28,
   "metadata": {},
   "outputs": [
    {
     "name": "stdout",
     "output_type": "stream",
     "text": [
      "rows with attribute A > 0:\n",
      "                   A         B         C         D\n",
      "2030-01-31  0.494994 -1.351584  0.375041 -0.668275\n",
      "2030-03-31  0.903355 -0.089329  1.386775  0.573385\n",
      "2030-05-31  1.497884 -0.896062  0.599296 -0.500316\n",
      "2030-06-30  0.886852  0.733054  1.532167 -1.366194\n"
     ]
    }
   ],
   "source": [
    "#Print rows with attribute A > 0\n",
    "print (\"rows with attribute A > 0:\")\n",
    "print(df.loc[df['A'] > 0])"
   ]
  },
  {
   "cell_type": "markdown",
   "metadata": {},
   "source": [
    "## Drop"
   ]
  },
  {
   "cell_type": "markdown",
   "metadata": {},
   "source": [
    "Elimina righe o colonne"
   ]
  },
  {
   "cell_type": "code",
   "execution_count": 29,
   "metadata": {},
   "outputs": [
    {
     "name": "stdout",
     "output_type": "stream",
     "text": [
      "Data Frame:\n"
     ]
    },
    {
     "data": {
      "text/html": [
       "<div>\n",
       "<style scoped>\n",
       "    .dataframe tbody tr th:only-of-type {\n",
       "        vertical-align: middle;\n",
       "    }\n",
       "\n",
       "    .dataframe tbody tr th {\n",
       "        vertical-align: top;\n",
       "    }\n",
       "\n",
       "    .dataframe thead th {\n",
       "        text-align: right;\n",
       "    }\n",
       "</style>\n",
       "<table border=\"1\" class=\"dataframe\">\n",
       "  <thead>\n",
       "    <tr style=\"text-align: right;\">\n",
       "      <th></th>\n",
       "      <th>A</th>\n",
       "      <th>B</th>\n",
       "      <th>C</th>\n",
       "      <th>D</th>\n",
       "    </tr>\n",
       "  </thead>\n",
       "  <tbody>\n",
       "    <tr>\n",
       "      <th>2030-01-31</th>\n",
       "      <td>0.494994</td>\n",
       "      <td>-1.351584</td>\n",
       "      <td>0.375041</td>\n",
       "      <td>-0.668275</td>\n",
       "    </tr>\n",
       "    <tr>\n",
       "      <th>2030-02-28</th>\n",
       "      <td>-0.799910</td>\n",
       "      <td>1.006647</td>\n",
       "      <td>0.282631</td>\n",
       "      <td>0.376301</td>\n",
       "    </tr>\n",
       "    <tr>\n",
       "      <th>2030-03-31</th>\n",
       "      <td>0.903355</td>\n",
       "      <td>-0.089329</td>\n",
       "      <td>1.386775</td>\n",
       "      <td>0.573385</td>\n",
       "    </tr>\n",
       "    <tr>\n",
       "      <th>2030-04-30</th>\n",
       "      <td>-0.045581</td>\n",
       "      <td>-1.120798</td>\n",
       "      <td>1.131650</td>\n",
       "      <td>-0.477144</td>\n",
       "    </tr>\n",
       "    <tr>\n",
       "      <th>2030-05-31</th>\n",
       "      <td>1.497884</td>\n",
       "      <td>-0.896062</td>\n",
       "      <td>0.599296</td>\n",
       "      <td>-0.500316</td>\n",
       "    </tr>\n",
       "    <tr>\n",
       "      <th>2030-06-30</th>\n",
       "      <td>0.886852</td>\n",
       "      <td>0.733054</td>\n",
       "      <td>1.532167</td>\n",
       "      <td>-1.366194</td>\n",
       "    </tr>\n",
       "  </tbody>\n",
       "</table>\n",
       "</div>"
      ],
      "text/plain": [
       "                   A         B         C         D\n",
       "2030-01-31  0.494994 -1.351584  0.375041 -0.668275\n",
       "2030-02-28 -0.799910  1.006647  0.282631  0.376301\n",
       "2030-03-31  0.903355 -0.089329  1.386775  0.573385\n",
       "2030-04-30 -0.045581 -1.120798  1.131650 -0.477144\n",
       "2030-05-31  1.497884 -0.896062  0.599296 -0.500316\n",
       "2030-06-30  0.886852  0.733054  1.532167 -1.366194"
      ]
     },
     "execution_count": 29,
     "metadata": {},
     "output_type": "execute_result"
    }
   ],
   "source": [
    "#Print content of df\n",
    "print(\"Data Frame:\")\n",
    "df"
   ]
  },
  {
   "cell_type": "code",
   "execution_count": 30,
   "metadata": {},
   "outputs": [],
   "source": [
    "#Drop colums A and C from df\n",
    "df_1=df.drop(columns=['A', 'C'])"
   ]
  },
  {
   "cell_type": "code",
   "execution_count": 31,
   "metadata": {},
   "outputs": [
    {
     "name": "stdout",
     "output_type": "stream",
     "text": [
      "Data Frame after drop:\n"
     ]
    },
    {
     "data": {
      "text/html": [
       "<div>\n",
       "<style scoped>\n",
       "    .dataframe tbody tr th:only-of-type {\n",
       "        vertical-align: middle;\n",
       "    }\n",
       "\n",
       "    .dataframe tbody tr th {\n",
       "        vertical-align: top;\n",
       "    }\n",
       "\n",
       "    .dataframe thead th {\n",
       "        text-align: right;\n",
       "    }\n",
       "</style>\n",
       "<table border=\"1\" class=\"dataframe\">\n",
       "  <thead>\n",
       "    <tr style=\"text-align: right;\">\n",
       "      <th></th>\n",
       "      <th>B</th>\n",
       "      <th>D</th>\n",
       "    </tr>\n",
       "  </thead>\n",
       "  <tbody>\n",
       "    <tr>\n",
       "      <th>2030-01-31</th>\n",
       "      <td>-1.351584</td>\n",
       "      <td>-0.668275</td>\n",
       "    </tr>\n",
       "    <tr>\n",
       "      <th>2030-02-28</th>\n",
       "      <td>1.006647</td>\n",
       "      <td>0.376301</td>\n",
       "    </tr>\n",
       "    <tr>\n",
       "      <th>2030-03-31</th>\n",
       "      <td>-0.089329</td>\n",
       "      <td>0.573385</td>\n",
       "    </tr>\n",
       "    <tr>\n",
       "      <th>2030-04-30</th>\n",
       "      <td>-1.120798</td>\n",
       "      <td>-0.477144</td>\n",
       "    </tr>\n",
       "    <tr>\n",
       "      <th>2030-05-31</th>\n",
       "      <td>-0.896062</td>\n",
       "      <td>-0.500316</td>\n",
       "    </tr>\n",
       "    <tr>\n",
       "      <th>2030-06-30</th>\n",
       "      <td>0.733054</td>\n",
       "      <td>-1.366194</td>\n",
       "    </tr>\n",
       "  </tbody>\n",
       "</table>\n",
       "</div>"
      ],
      "text/plain": [
       "                   B         D\n",
       "2030-01-31 -1.351584 -0.668275\n",
       "2030-02-28  1.006647  0.376301\n",
       "2030-03-31 -0.089329  0.573385\n",
       "2030-04-30 -1.120798 -0.477144\n",
       "2030-05-31 -0.896062 -0.500316\n",
       "2030-06-30  0.733054 -1.366194"
      ]
     },
     "execution_count": 31,
     "metadata": {},
     "output_type": "execute_result"
    }
   ],
   "source": [
    "#Print content of df_1\n",
    "print(\"Data Frame after drop:\")\n",
    "df_1"
   ]
  },
  {
   "cell_type": "markdown",
   "metadata": {},
   "source": [
    "# Concat"
   ]
  },
  {
   "cell_type": "markdown",
   "metadata": {},
   "source": [
    "Define First Dataframe"
   ]
  },
  {
   "cell_type": "code",
   "execution_count": 32,
   "metadata": {},
   "outputs": [],
   "source": [
    "import numpy as np\n",
    "import pandas as pd\n",
    "\n",
    "#Define first Data Frame\n",
    "df1 = pd.DataFrame({'name': ['John', 'Smith','Paul'],'Age': ['25', '30', '50']},index=[0, 1, 2])"
   ]
  },
  {
   "cell_type": "code",
   "execution_count": 33,
   "metadata": {},
   "outputs": [
    {
     "name": "stdout",
     "output_type": "stream",
     "text": [
      "Data Frame 1:\n"
     ]
    },
    {
     "data": {
      "text/html": [
       "<div>\n",
       "<style scoped>\n",
       "    .dataframe tbody tr th:only-of-type {\n",
       "        vertical-align: middle;\n",
       "    }\n",
       "\n",
       "    .dataframe tbody tr th {\n",
       "        vertical-align: top;\n",
       "    }\n",
       "\n",
       "    .dataframe thead th {\n",
       "        text-align: right;\n",
       "    }\n",
       "</style>\n",
       "<table border=\"1\" class=\"dataframe\">\n",
       "  <thead>\n",
       "    <tr style=\"text-align: right;\">\n",
       "      <th></th>\n",
       "      <th>name</th>\n",
       "      <th>Age</th>\n",
       "    </tr>\n",
       "  </thead>\n",
       "  <tbody>\n",
       "    <tr>\n",
       "      <th>0</th>\n",
       "      <td>John</td>\n",
       "      <td>25</td>\n",
       "    </tr>\n",
       "    <tr>\n",
       "      <th>1</th>\n",
       "      <td>Smith</td>\n",
       "      <td>30</td>\n",
       "    </tr>\n",
       "    <tr>\n",
       "      <th>2</th>\n",
       "      <td>Paul</td>\n",
       "      <td>50</td>\n",
       "    </tr>\n",
       "  </tbody>\n",
       "</table>\n",
       "</div>"
      ],
      "text/plain": [
       "    name Age\n",
       "0   John  25\n",
       "1  Smith  30\n",
       "2   Paul  50"
      ]
     },
     "execution_count": 33,
     "metadata": {},
     "output_type": "execute_result"
    }
   ],
   "source": [
    "#Print content of df1\n",
    "print(\"Data Frame 1:\")\n",
    "df1"
   ]
  },
  {
   "cell_type": "markdown",
   "metadata": {},
   "source": [
    "Define Second Dataframe"
   ]
  },
  {
   "cell_type": "code",
   "execution_count": 34,
   "metadata": {},
   "outputs": [],
   "source": [
    "#Define second Data Frame\n",
    "df2 = pd.DataFrame({'name': ['Adam', 'Smith' ],'Age': ['26', '11']},index=[3, 4])"
   ]
  },
  {
   "cell_type": "code",
   "execution_count": 35,
   "metadata": {},
   "outputs": [
    {
     "name": "stdout",
     "output_type": "stream",
     "text": [
      "Data Frame 2:\n"
     ]
    },
    {
     "data": {
      "text/html": [
       "<div>\n",
       "<style scoped>\n",
       "    .dataframe tbody tr th:only-of-type {\n",
       "        vertical-align: middle;\n",
       "    }\n",
       "\n",
       "    .dataframe tbody tr th {\n",
       "        vertical-align: top;\n",
       "    }\n",
       "\n",
       "    .dataframe thead th {\n",
       "        text-align: right;\n",
       "    }\n",
       "</style>\n",
       "<table border=\"1\" class=\"dataframe\">\n",
       "  <thead>\n",
       "    <tr style=\"text-align: right;\">\n",
       "      <th></th>\n",
       "      <th>name</th>\n",
       "      <th>Age</th>\n",
       "    </tr>\n",
       "  </thead>\n",
       "  <tbody>\n",
       "    <tr>\n",
       "      <th>3</th>\n",
       "      <td>Adam</td>\n",
       "      <td>26</td>\n",
       "    </tr>\n",
       "    <tr>\n",
       "      <th>4</th>\n",
       "      <td>Smith</td>\n",
       "      <td>11</td>\n",
       "    </tr>\n",
       "  </tbody>\n",
       "</table>\n",
       "</div>"
      ],
      "text/plain": [
       "    name Age\n",
       "3   Adam  26\n",
       "4  Smith  11"
      ]
     },
     "execution_count": 35,
     "metadata": {},
     "output_type": "execute_result"
    }
   ],
   "source": [
    "#Print content of df2\n",
    "print(\"Data Frame 2:\")\n",
    "df2"
   ]
  },
  {
   "cell_type": "markdown",
   "metadata": {},
   "source": [
    "Usa il metodo \"concat\" per concatenare due Dataframe"
   ]
  },
  {
   "cell_type": "code",
   "execution_count": 36,
   "metadata": {},
   "outputs": [],
   "source": [
    "df_concat = pd.concat([df1,df2])"
   ]
  },
  {
   "cell_type": "code",
   "execution_count": 37,
   "metadata": {},
   "outputs": [
    {
     "name": "stdout",
     "output_type": "stream",
     "text": [
      "Data Frame concat:\n",
      "    name Age\n",
      "0   John  25\n",
      "1  Smith  30\n",
      "2   Paul  50\n",
      "3   Adam  26\n",
      "4  Smith  11\n"
     ]
    }
   ],
   "source": [
    "#Print content of df_concat\n",
    "print(\"Data Frame concat:\")\n",
    "print(df_concat)"
   ]
  },
  {
   "cell_type": "markdown",
   "metadata": {},
   "source": [
    "## Duplicate e Nan"
   ]
  },
  {
   "cell_type": "markdown",
   "metadata": {},
   "source": [
    "In caso di tuple duplicate, o valori None o Nan, la librerie ci permette di rimuovere dal dataframe le righe interessate"
   ]
  },
  {
   "cell_type": "code",
   "execution_count": 38,
   "metadata": {},
   "outputs": [
    {
     "name": "stdout",
     "output_type": "stream",
     "text": [
      "Data Frame concat:\n"
     ]
    },
    {
     "data": {
      "text/html": [
       "<div>\n",
       "<style scoped>\n",
       "    .dataframe tbody tr th:only-of-type {\n",
       "        vertical-align: middle;\n",
       "    }\n",
       "\n",
       "    .dataframe tbody tr th {\n",
       "        vertical-align: top;\n",
       "    }\n",
       "\n",
       "    .dataframe thead th {\n",
       "        text-align: right;\n",
       "    }\n",
       "</style>\n",
       "<table border=\"1\" class=\"dataframe\">\n",
       "  <thead>\n",
       "    <tr style=\"text-align: right;\">\n",
       "      <th></th>\n",
       "      <th>name</th>\n",
       "      <th>Age</th>\n",
       "    </tr>\n",
       "  </thead>\n",
       "  <tbody>\n",
       "    <tr>\n",
       "      <th>0</th>\n",
       "      <td>John</td>\n",
       "      <td>25</td>\n",
       "    </tr>\n",
       "    <tr>\n",
       "      <th>1</th>\n",
       "      <td>Smith</td>\n",
       "      <td>30</td>\n",
       "    </tr>\n",
       "    <tr>\n",
       "      <th>2</th>\n",
       "      <td>Paul</td>\n",
       "      <td>50</td>\n",
       "    </tr>\n",
       "    <tr>\n",
       "      <th>3</th>\n",
       "      <td>Adam</td>\n",
       "      <td>26</td>\n",
       "    </tr>\n",
       "    <tr>\n",
       "      <th>4</th>\n",
       "      <td>Smith</td>\n",
       "      <td>11</td>\n",
       "    </tr>\n",
       "    <tr>\n",
       "      <th>5</th>\n",
       "      <td>None</td>\n",
       "      <td>15</td>\n",
       "    </tr>\n",
       "  </tbody>\n",
       "</table>\n",
       "</div>"
      ],
      "text/plain": [
       "    name Age\n",
       "0   John  25\n",
       "1  Smith  30\n",
       "2   Paul  50\n",
       "3   Adam  26\n",
       "4  Smith  11\n",
       "5   None  15"
      ]
     },
     "execution_count": 38,
     "metadata": {},
     "output_type": "execute_result"
    }
   ],
   "source": [
    "import numpy as np\n",
    "import pandas as pd\n",
    "\n",
    "#Define first Data Frame\n",
    "df1 = pd.DataFrame({'name': ['John', 'Smith','Paul'],'Age': ['25', '30', '50']},index=[0, 1, 2])\n",
    "\n",
    "#Define second Data Frame\n",
    "df2 = pd.DataFrame({'name': ['Adam', 'Smith', None ],'Age': ['26', '11', '15']},index=[3, 4, 5])\n",
    "\n",
    "df_concat = pd.concat([df1,df2])\n",
    "\n",
    "#Print content of df_concat\n",
    "print(\"Data Frame concat:\")\n",
    "df_concat"
   ]
  },
  {
   "cell_type": "markdown",
   "metadata": {},
   "source": [
    "Drop duplicate rows with drop_duplicates()"
   ]
  },
  {
   "cell_type": "code",
   "execution_count": 39,
   "metadata": {},
   "outputs": [],
   "source": [
    "#Drop duplicate rows with drop_duplicates()\n",
    "df_concat_nd = df_concat.drop_duplicates()"
   ]
  },
  {
   "cell_type": "code",
   "execution_count": 40,
   "metadata": {},
   "outputs": [
    {
     "name": "stdout",
     "output_type": "stream",
     "text": [
      "Data Frame without duplicate names:\n",
      "    name Age\n",
      "0   John  25\n",
      "1  Smith  30\n",
      "2   Paul  50\n",
      "3   Adam  26\n",
      "4  Smith  11\n",
      "5   None  15\n"
     ]
    }
   ],
   "source": [
    "#Print content of df_concat_nd\n",
    "print (\"Data Frame without duplicate names:\")\n",
    "print(df_concat_nd)"
   ]
  },
  {
   "cell_type": "markdown",
   "metadata": {},
   "source": [
    "Drop NAN Value rows with dropna()"
   ]
  },
  {
   "cell_type": "code",
   "execution_count": 42,
   "metadata": {},
   "outputs": [],
   "source": [
    "#Drop NAN rows with drop_duplicates()\n",
    "df_concat_nd = df_concat.dropna()"
   ]
  },
  {
   "cell_type": "code",
   "execution_count": 43,
   "metadata": {},
   "outputs": [
    {
     "name": "stdout",
     "output_type": "stream",
     "text": [
      "Data Frame without duplicate names:\n",
      "    name Age\n",
      "0   John  25\n",
      "1  Smith  30\n",
      "2   Paul  50\n",
      "3   Adam  26\n",
      "4  Smith  11\n"
     ]
    }
   ],
   "source": [
    "#Print content of df_concat_nd\n",
    "print (\"Data Frame without duplicate names:\")\n",
    "print(df_concat_nd)"
   ]
  },
  {
   "cell_type": "markdown",
   "metadata": {},
   "source": [
    "## Sort"
   ]
  },
  {
   "cell_type": "code",
   "execution_count": null,
   "metadata": {},
   "outputs": [],
   "source": [
    "import numpy as np\n",
    "import pandas as pd\n",
    "\n",
    "#Define first Data Frame\n",
    "df1 = pd.DataFrame({'name': ['John', 'Smith','Paul'],'Age': ['25', '30', '50']}, index=[0, 1, 2])\n",
    "\n",
    "#Define second Data Frame\n",
    "#Print content of df1\n",
    "print(\"Data Frame 1:\")\n",
    "df1"
   ]
  },
  {
   "cell_type": "code",
   "execution_count": null,
   "metadata": {},
   "outputs": [],
   "source": [
    "df2 = pd.DataFrame({'name': ['Adam', 'Smith' ],'Age': ['26', '11']},index=[3, 4])\n",
    "\n",
    "#Print content of df2\n",
    "print(\"Data Frame 2:\")\n",
    "df2"
   ]
  },
  {
   "cell_type": "code",
   "execution_count": null,
   "metadata": {},
   "outputs": [],
   "source": [
    "df_concat = pd.concat([df1,df2])"
   ]
  },
  {
   "cell_type": "code",
   "execution_count": null,
   "metadata": {},
   "outputs": [],
   "source": [
    "#Print content of df_concat\n",
    "print(\"Data Frame concat:\")\n",
    "df_concat"
   ]
  },
  {
   "cell_type": "markdown",
   "metadata": {},
   "source": [
    "Sorting values by Age"
   ]
  },
  {
   "cell_type": "code",
   "execution_count": null,
   "metadata": {},
   "outputs": [],
   "source": [
    "#Sorting values by Age\n",
    "df_concat_st = df_concat.sort_values('Age')"
   ]
  },
  {
   "cell_type": "code",
   "execution_count": null,
   "metadata": {},
   "outputs": [],
   "source": [
    "#Print content of df_concat_st\n",
    "print(\"Data Frame sorting by Age: \")\n",
    "df_concat_st"
   ]
  },
  {
   "cell_type": "markdown",
   "metadata": {},
   "source": [
    "## Rename Column"
   ]
  },
  {
   "cell_type": "code",
   "execution_count": null,
   "metadata": {},
   "outputs": [],
   "source": [
    "#Rename Data Frame\n",
    "df_concat_rename = df_concat.rename(columns={\"name\": \"Surname\", \"Age\": \"Age_ppl\"})"
   ]
  },
  {
   "cell_type": "code",
   "execution_count": null,
   "metadata": {},
   "outputs": [],
   "source": [
    "#Print content of df_concat_remane\n",
    "print(\"Data Frame after remane: \")\n",
    "df_concat_rename"
   ]
  },
  {
   "cell_type": "markdown",
   "metadata": {},
   "source": [
    "## Import from URL"
   ]
  },
  {
   "cell_type": "code",
   "execution_count": 44,
   "metadata": {},
   "outputs": [
    {
     "name": "stdout",
     "output_type": "stream",
     "text": [
      "df_train shape: (32561, 15) \n"
     ]
    }
   ],
   "source": [
    "import pandas as pd\n",
    "\n",
    "#Define attributes of CSV file\n",
    "COLUMNS = ['age','workclass', 'fnlwgt', 'education', 'education_num','marital', 'occupation', 'relationship', 'race', 'sex', 'capital_gain', 'capital_loss', 'hours_week', 'native_country', 'label']\n",
    "\n",
    "#Define path of CSV file\n",
    "PATH = \"https://archive.ics.uci.edu/ml/machine-learning-databases/adult/adult.data\"\n",
    "df_train = pd.read_csv(PATH, skipinitialspace=True, names = COLUMNS, index_col=False)\n",
    "\n",
    "#Print shape of df_train\n",
    "print(\"df_train shape: {} \".format(df_train.shape))"
   ]
  },
  {
   "cell_type": "markdown",
   "metadata": {},
   "source": [
    "## Group By"
   ]
  },
  {
   "cell_type": "code",
   "execution_count": 45,
   "metadata": {},
   "outputs": [],
   "source": [
    "import pandas as pd\n",
    "\n",
    "#Define attributes of CSV file\n",
    "COLUMNS = ['age','workclass', 'fnlwgt', 'education', 'education_num', \t'marital', 'occupation', 'relationship', 'race', 'sex','capital_gain', 'capital_loss', 'hours_week', 'native_country','label']\n",
    "\n",
    "#Define path of CSV file\n",
    "PATH = \"https://archive.ics.uci.edu/ml/machine-learning-databases/adult/adult.data\"\n",
    "df_train = pd.read_csv(PATH, skipinitialspace=True, names = COLUMNS, index_col=False)"
   ]
  },
  {
   "cell_type": "markdown",
   "metadata": {},
   "source": [
    "Media"
   ]
  },
  {
   "cell_type": "code",
   "execution_count": 49,
   "metadata": {},
   "outputs": [],
   "source": [
    "#Application of groupby() function\n",
    "df_gb = df_train.groupby(['label']).mean(numeric_only=True)"
   ]
  },
  {
   "cell_type": "code",
   "execution_count": 50,
   "metadata": {},
   "outputs": [
    {
     "name": "stdout",
     "output_type": "stream",
     "text": [
      "Data Frame after groupby:\n"
     ]
    },
    {
     "data": {
      "application/vnd.microsoft.datawrangler.viewer.v0+json": {
       "columns": [
        {
         "name": "label",
         "rawType": "object",
         "type": "string"
        },
        {
         "name": "age",
         "rawType": "float64",
         "type": "float"
        },
        {
         "name": "fnlwgt",
         "rawType": "float64",
         "type": "float"
        },
        {
         "name": "education_num",
         "rawType": "float64",
         "type": "float"
        },
        {
         "name": "capital_gain",
         "rawType": "float64",
         "type": "float"
        },
        {
         "name": "capital_loss",
         "rawType": "float64",
         "type": "float"
        },
        {
         "name": "hours_week",
         "rawType": "float64",
         "type": "float"
        }
       ],
       "conversionMethod": "pd.DataFrame",
       "ref": "d31e7c63-365b-4fba-b062-5611af031778",
       "rows": [
        [
         "<=50K",
         "36.78373786407767",
         "190340.8651699029",
         "9.595064724919094",
         "148.75246763754046",
         "53.14292071197411",
         "38.840210355987054"
        ],
        [
         ">50K",
         "44.24984058155847",
         "188005.0",
         "11.611656676444332",
         "4006.142456319347",
         "195.00153041703865",
         "45.473026399693914"
        ]
       ],
       "shape": {
        "columns": 6,
        "rows": 2
       }
      },
      "text/html": [
       "<div>\n",
       "<style scoped>\n",
       "    .dataframe tbody tr th:only-of-type {\n",
       "        vertical-align: middle;\n",
       "    }\n",
       "\n",
       "    .dataframe tbody tr th {\n",
       "        vertical-align: top;\n",
       "    }\n",
       "\n",
       "    .dataframe thead th {\n",
       "        text-align: right;\n",
       "    }\n",
       "</style>\n",
       "<table border=\"1\" class=\"dataframe\">\n",
       "  <thead>\n",
       "    <tr style=\"text-align: right;\">\n",
       "      <th></th>\n",
       "      <th>age</th>\n",
       "      <th>fnlwgt</th>\n",
       "      <th>education_num</th>\n",
       "      <th>capital_gain</th>\n",
       "      <th>capital_loss</th>\n",
       "      <th>hours_week</th>\n",
       "    </tr>\n",
       "    <tr>\n",
       "      <th>label</th>\n",
       "      <th></th>\n",
       "      <th></th>\n",
       "      <th></th>\n",
       "      <th></th>\n",
       "      <th></th>\n",
       "      <th></th>\n",
       "    </tr>\n",
       "  </thead>\n",
       "  <tbody>\n",
       "    <tr>\n",
       "      <th>&lt;=50K</th>\n",
       "      <td>36.783738</td>\n",
       "      <td>190340.86517</td>\n",
       "      <td>9.595065</td>\n",
       "      <td>148.752468</td>\n",
       "      <td>53.142921</td>\n",
       "      <td>38.840210</td>\n",
       "    </tr>\n",
       "    <tr>\n",
       "      <th>&gt;50K</th>\n",
       "      <td>44.249841</td>\n",
       "      <td>188005.00000</td>\n",
       "      <td>11.611657</td>\n",
       "      <td>4006.142456</td>\n",
       "      <td>195.001530</td>\n",
       "      <td>45.473026</td>\n",
       "    </tr>\n",
       "  </tbody>\n",
       "</table>\n",
       "</div>"
      ],
      "text/plain": [
       "             age        fnlwgt  education_num  capital_gain  capital_loss  \\\n",
       "label                                                                       \n",
       "<=50K  36.783738  190340.86517       9.595065    148.752468     53.142921   \n",
       ">50K   44.249841  188005.00000      11.611657   4006.142456    195.001530   \n",
       "\n",
       "       hours_week  \n",
       "label              \n",
       "<=50K   38.840210  \n",
       ">50K    45.473026  "
      ]
     },
     "execution_count": 50,
     "metadata": {},
     "output_type": "execute_result"
    }
   ],
   "source": [
    "#Print content of df_gb\n",
    "print (\"Data Frame after groupby:\")\n",
    "df_gb"
   ]
  },
  {
   "cell_type": "markdown",
   "metadata": {},
   "source": [
    "Minimo"
   ]
  },
  {
   "cell_type": "code",
   "execution_count": 51,
   "metadata": {},
   "outputs": [
    {
     "name": "stdout",
     "output_type": "stream",
     "text": [
      "Data Frame after groupby:\n"
     ]
    },
    {
     "data": {
      "text/plain": [
       "label\n",
       "<=50K    17\n",
       ">50K     19\n",
       "Name: age, dtype: int64"
      ]
     },
     "execution_count": 51,
     "metadata": {},
     "output_type": "execute_result"
    }
   ],
   "source": [
    "#Application of groupby() function\n",
    "df_gb = df_train.groupby(['label'])['age'].min()\n",
    "\n",
    "#Print content of df_gb\n",
    "print (\"Data Frame after groupby:\")\n",
    "df_gb"
   ]
  },
  {
   "cell_type": "markdown",
   "metadata": {},
   "source": [
    "Massimo"
   ]
  },
  {
   "cell_type": "code",
   "execution_count": 52,
   "metadata": {},
   "outputs": [
    {
     "name": "stdout",
     "output_type": "stream",
     "text": [
      "Data Frame after groupby:\n"
     ]
    },
    {
     "data": {
      "text/plain": [
       "label  marital              \n",
       "<=50K  Divorced                 34095\n",
       "       Married-AF-spouse         2653\n",
       "       Married-civ-spouse       41310\n",
       "       Married-spouse-absent     6849\n",
       "       Never-married            34095\n",
       "       Separated                 7443\n",
       "       Widowed                   6849\n",
       ">50K   Divorced                 99999\n",
       "       Married-AF-spouse         7298\n",
       "       Married-civ-spouse       99999\n",
       "       Married-spouse-absent    99999\n",
       "       Never-married            99999\n",
       "       Separated                99999\n",
       "       Widowed                  99999\n",
       "Name: capital_gain, dtype: int64"
      ]
     },
     "execution_count": 52,
     "metadata": {},
     "output_type": "execute_result"
    }
   ],
   "source": [
    "#Application of groupby() function\n",
    "df_gb = df_train.groupby(['label', 'marital'])['capital_gain'].max()\n",
    "\n",
    "#Print content of df_gb\n",
    "print (\"Data Frame after groupby:\")\n",
    "df_gb"
   ]
  }
 ],
 "metadata": {
  "kernelspec": {
   "display_name": "base",
   "language": "python",
   "name": "python3"
  },
  "language_info": {
   "codemirror_mode": {
    "name": "ipython",
    "version": 3
   },
   "file_extension": ".py",
   "mimetype": "text/x-python",
   "name": "python",
   "nbconvert_exporter": "python",
   "pygments_lexer": "ipython3",
   "version": "3.12.7"
  }
 },
 "nbformat": 4,
 "nbformat_minor": 2
}
