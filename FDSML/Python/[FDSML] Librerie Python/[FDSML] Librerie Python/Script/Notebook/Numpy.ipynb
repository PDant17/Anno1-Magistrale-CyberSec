{
 "cells": [
  {
   "cell_type": "markdown",
   "metadata": {},
   "source": [
    "# Numpy"
   ]
  },
  {
   "cell_type": "markdown",
   "metadata": {},
   "source": [
    "Install Numpy"
   ]
  },
  {
   "cell_type": "code",
   "execution_count": 244,
   "metadata": {},
   "outputs": [
    {
     "name": "stdout",
     "output_type": "stream",
     "text": [
      "Requirement already satisfied: numpy in c:\\users\\giand\\anaconda3\\lib\\site-packages (1.26.4)\n",
      "Note: you may need to restart the kernel to use updated packages.\n"
     ]
    }
   ],
   "source": [
    "pip install numpy"
   ]
  },
  {
   "cell_type": "markdown",
   "metadata": {},
   "source": [
    "Check Numpy Version"
   ]
  },
  {
   "cell_type": "code",
   "execution_count": 245,
   "metadata": {},
   "outputs": [
    {
     "name": "stdout",
     "output_type": "stream",
     "text": [
      "NumPy version:1.26.4\n"
     ]
    }
   ],
   "source": [
    "import numpy as np\n",
    "print(\"NumPy version:{}\".format(np.__version__))"
   ]
  },
  {
   "cell_type": "markdown",
   "metadata": {},
   "source": [
    "## NumPy array"
   ]
  },
  {
   "cell_type": "code",
   "execution_count": 246,
   "metadata": {},
   "outputs": [],
   "source": [
    "import numpy as np\n",
    "#Define simple list in Python\n",
    "list = [0,1,2,3,4]"
   ]
  },
  {
   "cell_type": "code",
   "execution_count": 247,
   "metadata": {},
   "outputs": [],
   "source": [
    "#Convert list in NumPy array\n",
    "arr = np.array(list)"
   ]
  },
  {
   "cell_type": "code",
   "execution_count": 248,
   "metadata": {},
   "outputs": [
    {
     "name": "stdout",
     "output_type": "stream",
     "text": [
      "arr content: [0 1 2 3 4]\n",
      "\n",
      "arr type: <class 'numpy.ndarray'>\n"
     ]
    }
   ],
   "source": [
    "# Print content of arr and his type\n",
    "print (\"arr content: {}\\n\".format(arr))\n",
    "print (\"arr type: {}\".format(type(arr)))"
   ]
  },
  {
   "cell_type": "markdown",
   "metadata": {},
   "source": [
    "## Operazioni Matematiche 1"
   ]
  },
  {
   "cell_type": "code",
   "execution_count": 249,
   "metadata": {},
   "outputs": [],
   "source": [
    "import numpy as np\n",
    "\n",
    "#Define simple list in Python\n",
    "list = [0,1,2,3,4]\n",
    "\n",
    "#Convert list in NumPy array\n",
    "arr = np.array(list)"
   ]
  },
  {
   "cell_type": "code",
   "execution_count": 250,
   "metadata": {},
   "outputs": [
    {
     "name": "stdout",
     "output_type": "stream",
     "text": [
      "arr content: [0 1 2 3 4]\n"
     ]
    }
   ],
   "source": [
    "#Print content of arr\n",
    "print (\"arr content: {}\".format(arr))"
   ]
  },
  {
   "cell_type": "markdown",
   "metadata": {},
   "source": [
    "Add"
   ]
  },
  {
   "cell_type": "code",
   "execution_count": 251,
   "metadata": {},
   "outputs": [],
   "source": [
    "#Add 4 to all the arr items\n",
    "arr = arr + 4"
   ]
  },
  {
   "cell_type": "code",
   "execution_count": 252,
   "metadata": {},
   "outputs": [
    {
     "name": "stdout",
     "output_type": "stream",
     "text": [
      "arr content after add operation (+4): [4 5 6 7 8]\n"
     ]
    }
   ],
   "source": [
    "#Print arr after sum operation\n",
    "print (\"arr content after add operation (+4): {}\".format(arr))"
   ]
  },
  {
   "cell_type": "markdown",
   "metadata": {},
   "source": [
    "## Operazioni Matematiche 2"
   ]
  },
  {
   "cell_type": "code",
   "execution_count": 253,
   "metadata": {},
   "outputs": [],
   "source": [
    "import numpy as np\n",
    "\n",
    "#Define simple list in Python\n",
    "list = [0,1,2,3,4]\n",
    "\n",
    "#Convert list in NumPy array\n",
    "arr = np.array(list)"
   ]
  },
  {
   "cell_type": "markdown",
   "metadata": {},
   "source": [
    "Add"
   ]
  },
  {
   "cell_type": "code",
   "execution_count": 254,
   "metadata": {},
   "outputs": [],
   "source": [
    "#Add 4 to all the arr items\n",
    "arr = arr + 4"
   ]
  },
  {
   "cell_type": "code",
   "execution_count": 255,
   "metadata": {},
   "outputs": [
    {
     "name": "stdout",
     "output_type": "stream",
     "text": [
      "arr content after add operation (+4): [4 5 6 7 8]\n"
     ]
    }
   ],
   "source": [
    "#Print arr after sum operation\n",
    "print (\"arr content after add operation (+4): {}\".format(arr))"
   ]
  },
  {
   "cell_type": "markdown",
   "metadata": {},
   "source": [
    "Subtract"
   ]
  },
  {
   "cell_type": "code",
   "execution_count": 256,
   "metadata": {},
   "outputs": [],
   "source": [
    "#Subtract 2 to all the items in arr\n",
    "arr = arr - 2"
   ]
  },
  {
   "cell_type": "code",
   "execution_count": 257,
   "metadata": {},
   "outputs": [
    {
     "name": "stdout",
     "output_type": "stream",
     "text": [
      "arr content after subtraction operation (-2): [2 3 4 5 6]\n"
     ]
    }
   ],
   "source": [
    "#Print arr after subtraction operation\n",
    "print (\"arr content after subtraction operation (-2): {}\".format(arr))"
   ]
  },
  {
   "cell_type": "markdown",
   "metadata": {},
   "source": [
    "Multiply"
   ]
  },
  {
   "cell_type": "code",
   "execution_count": 258,
   "metadata": {},
   "outputs": [],
   "source": [
    "#Multiply 4 to all the arr items\n",
    "arr = arr * 4"
   ]
  },
  {
   "cell_type": "code",
   "execution_count": 259,
   "metadata": {},
   "outputs": [
    {
     "name": "stdout",
     "output_type": "stream",
     "text": [
      "arr content after multiplication operation (*4): [ 8 12 16 20 24]\n"
     ]
    }
   ],
   "source": [
    "#Print arr after multiplication operation\n",
    "print (\"arr content after multiplication operation (*4): {}\".format(arr))"
   ]
  },
  {
   "cell_type": "markdown",
   "metadata": {},
   "source": [
    "Divide"
   ]
  },
  {
   "cell_type": "code",
   "execution_count": 260,
   "metadata": {},
   "outputs": [],
   "source": [
    "#Divide by 2 all the arr items\n",
    "arr = arr / 2"
   ]
  },
  {
   "cell_type": "code",
   "execution_count": 261,
   "metadata": {},
   "outputs": [
    {
     "name": "stdout",
     "output_type": "stream",
     "text": [
      "arr content after division operation (/2): [ 4.  6.  8. 10. 12.]\n"
     ]
    }
   ],
   "source": [
    "#Print arr after division operation\n",
    "print (\"arr content after division operation (/2): {}\".format(arr))"
   ]
  },
  {
   "cell_type": "markdown",
   "metadata": {},
   "source": [
    "# Attributi Type e Shape "
   ]
  },
  {
   "cell_type": "markdown",
   "metadata": {},
   "source": [
    "## Type e Shape Parte 1"
   ]
  },
  {
   "cell_type": "code",
   "execution_count": 262,
   "metadata": {},
   "outputs": [],
   "source": [
    "import numpy as np\n",
    "\n",
    "#Define simple list in Python\n",
    "list = [0,1,2,3,4]\n",
    "\n",
    "#Convert list in NumPy array\n",
    "arr = np.array(list)"
   ]
  },
  {
   "cell_type": "code",
   "execution_count": 263,
   "metadata": {},
   "outputs": [
    {
     "name": "stdout",
     "output_type": "stream",
     "text": [
      "arr content: [0 1 2 3 4]\n"
     ]
    }
   ],
   "source": [
    "#Print content of arr\n",
    "print (\"arr content: {}\".format(arr))"
   ]
  },
  {
   "cell_type": "markdown",
   "metadata": {},
   "source": [
    "Print arr shape and type"
   ]
  },
  {
   "cell_type": "code",
   "execution_count": 264,
   "metadata": {},
   "outputs": [
    {
     "name": "stdout",
     "output_type": "stream",
     "text": [
      "arr shape : (5,)\n"
     ]
    }
   ],
   "source": [
    "print (\"arr shape : {}\".format(arr.shape))"
   ]
  },
  {
   "cell_type": "code",
   "execution_count": 265,
   "metadata": {},
   "outputs": [
    {
     "name": "stdout",
     "output_type": "stream",
     "text": [
      "arr type: {} int32\n"
     ]
    }
   ],
   "source": [
    "print (\"arr type: {}\",format(arr.dtype))"
   ]
  },
  {
   "cell_type": "markdown",
   "metadata": {},
   "source": [
    "## Type e Shape Parte 2"
   ]
  },
  {
   "cell_type": "code",
   "execution_count": 266,
   "metadata": {},
   "outputs": [],
   "source": [
    "import numpy as np\n",
    "\n",
    "#Different type\n",
    "arr1 = np.array([1.1,2.0,3.2])"
   ]
  },
  {
   "cell_type": "code",
   "execution_count": 267,
   "metadata": {},
   "outputs": [
    {
     "name": "stdout",
     "output_type": "stream",
     "text": [
      "arr1 shape : (3,)\n",
      "arr1 type: {} float64\n"
     ]
    }
   ],
   "source": [
    "#Print arr1 shape and type\n",
    "print (\"arr1 shape : {}\".format(arr1.shape))\n",
    "print (\"arr1 type: {}\",format(arr1.dtype))"
   ]
  },
  {
   "cell_type": "code",
   "execution_count": 268,
   "metadata": {},
   "outputs": [],
   "source": [
    "#Define simple 2d list in Python\n",
    "list2 = [[5,6,7],[8,9,10]]"
   ]
  },
  {
   "cell_type": "code",
   "execution_count": 269,
   "metadata": {},
   "outputs": [],
   "source": [
    "#Convert list 2d in NumPy array\n",
    "arr_2 = np.array(list2)"
   ]
  },
  {
   "cell_type": "code",
   "execution_count": 270,
   "metadata": {},
   "outputs": [
    {
     "name": "stdout",
     "output_type": "stream",
     "text": [
      "arr1 shape : (2, 3)\n",
      "arr1 type: {} int32\n"
     ]
    }
   ],
   "source": [
    "#Print arr1 shape and type\n",
    "print (\"arr1 shape : {}\".format(arr_2.shape))\n",
    "print (\"arr1 type: {}\",format(arr_2.dtype))"
   ]
  },
  {
   "cell_type": "code",
   "execution_count": 271,
   "metadata": {},
   "outputs": [
    {
     "name": "stdout",
     "output_type": "stream",
     "text": [
      "arr_2 content: [[ 5  6  7]\n",
      " [ 8  9 10]]\n"
     ]
    }
   ],
   "source": [
    "#Print content of arr_2\n",
    "print (\"arr_2 content: {}\".format(arr_2))"
   ]
  },
  {
   "cell_type": "markdown",
   "metadata": {},
   "source": [
    "# Cambiare Tipo"
   ]
  },
  {
   "cell_type": "code",
   "execution_count": 272,
   "metadata": {},
   "outputs": [
    {
     "name": "stdout",
     "output_type": "stream",
     "text": [
      "arr_2 content: [[0 1 2]\n",
      " [3 4 5]\n",
      " [6 7 8]]\n"
     ]
    }
   ],
   "source": [
    "import numpy as np\n",
    "\n",
    "#Define simple 2d list in Python\n",
    "list2 = [[0,1,2],[3,4,5],[6,7,8]]\n",
    "\n",
    "#Convert list2 in NumPy array 2d\n",
    "arr_2 = np.array(list2)\n",
    "\n",
    "#Print content of arr_2\n",
    "print (\"arr_2 content: {}\".format(arr_2))"
   ]
  },
  {
   "cell_type": "code",
   "execution_count": 273,
   "metadata": {},
   "outputs": [
    {
     "name": "stdout",
     "output_type": "stream",
     "text": [
      "arr_2 shape : (3, 3)\n",
      "arr_2 type: {} int32\n"
     ]
    }
   ],
   "source": [
    "#Print arr_2 shape and type\n",
    "print (\"arr_2 shape : {}\".format(arr_2.shape))\n",
    "print (\"arr_2 type: {}\",format(arr_2.dtype))"
   ]
  },
  {
   "cell_type": "markdown",
   "metadata": {},
   "source": [
    "## Cambiare Tipo Parte 1 \"Float\""
   ]
  },
  {
   "cell_type": "code",
   "execution_count": 274,
   "metadata": {},
   "outputs": [],
   "source": [
    "import numpy as np\n",
    "\n",
    "#Define simple 2d list in Python\n",
    "list2 = [[0,1,2],[3,4,5],[6,7,8]]"
   ]
  },
  {
   "cell_type": "code",
   "execution_count": 275,
   "metadata": {},
   "outputs": [],
   "source": [
    "#Convert integer list2 in NumPy array of float items\n",
    "arr_2f = np.array(list2, dtype='float')"
   ]
  },
  {
   "cell_type": "code",
   "execution_count": 276,
   "metadata": {},
   "outputs": [
    {
     "name": "stdout",
     "output_type": "stream",
     "text": [
      "arr_2f content: [[0. 1. 2.]\n",
      " [3. 4. 5.]\n",
      " [6. 7. 8.]]\n"
     ]
    }
   ],
   "source": [
    "#Print content of arr_2f\n",
    "print (\"arr_2f content: {}\".format(arr_2f))"
   ]
  },
  {
   "cell_type": "code",
   "execution_count": 277,
   "metadata": {},
   "outputs": [
    {
     "name": "stdout",
     "output_type": "stream",
     "text": [
      "arr_2f shape : (3, 3)\n",
      "arr_2f type: {} float64\n"
     ]
    }
   ],
   "source": [
    "#Print arr_2f shape and type\n",
    "print (\"arr_2f shape : {}\".format(arr_2f.shape))\n",
    "print (\"arr_2f type: {}\",format(arr_2f.dtype))"
   ]
  },
  {
   "cell_type": "markdown",
   "metadata": {},
   "source": [
    "## Cambiare Tipo Parte 2 \"Float\""
   ]
  },
  {
   "cell_type": "code",
   "execution_count": 278,
   "metadata": {},
   "outputs": [],
   "source": [
    "import numpy as np\n",
    "\n",
    "#Define simple 2d list in Python\n",
    "list2 = [[0,1,2],[3,4,5],[6,7,8]]"
   ]
  },
  {
   "cell_type": "markdown",
   "metadata": {},
   "source": [
    "Convert list2 in NumPy array 2d"
   ]
  },
  {
   "cell_type": "code",
   "execution_count": 279,
   "metadata": {},
   "outputs": [],
   "source": [
    "arr_2 = np.array(list2)"
   ]
  },
  {
   "cell_type": "code",
   "execution_count": 280,
   "metadata": {},
   "outputs": [],
   "source": [
    "arr_2f = np.array(list2, dtype='float')"
   ]
  },
  {
   "cell_type": "markdown",
   "metadata": {},
   "source": [
    "Change arr_2f items to integer type through use of astype() function"
   ]
  },
  {
   "cell_type": "code",
   "execution_count": 281,
   "metadata": {},
   "outputs": [],
   "source": [
    "arr_2i=arr_2f.astype('int')"
   ]
  },
  {
   "cell_type": "code",
   "execution_count": 282,
   "metadata": {},
   "outputs": [
    {
     "name": "stdout",
     "output_type": "stream",
     "text": [
      "arr_2i content: [[0 1 2]\n",
      " [3 4 5]\n",
      " [6 7 8]]\n"
     ]
    }
   ],
   "source": [
    "#Print content of arr_2i\n",
    "print (\"arr_2i content: {}\".format(arr_2i))"
   ]
  },
  {
   "cell_type": "code",
   "execution_count": 283,
   "metadata": {},
   "outputs": [
    {
     "name": "stdout",
     "output_type": "stream",
     "text": [
      "arr_2i shape : (3, 3)\n",
      "arr_2i type: {} int32\n"
     ]
    }
   ],
   "source": [
    "#Print arr_2i shape and type\n",
    "print (\"arr_2i shape : {}\".format(arr_2i.shape))\n",
    "print (\"arr_2i type: {}\",format(arr_2i.dtype))"
   ]
  },
  {
   "cell_type": "code",
   "execution_count": 284,
   "metadata": {},
   "outputs": [
    {
     "name": "stdout",
     "output_type": "stream",
     "text": [
      "arr_2f shape : (3, 3)\n",
      "arr_2f type: {} float64\n"
     ]
    }
   ],
   "source": [
    "#Print arr_2f shape and type\n",
    "print (\"arr_2f shape : {}\".format(arr_2f.shape))\n",
    "print (\"arr_2f type: {}\",format(arr_2f.dtype))"
   ]
  },
  {
   "cell_type": "markdown",
   "metadata": {},
   "source": [
    "# Array Boolean"
   ]
  },
  {
   "cell_type": "code",
   "execution_count": 285,
   "metadata": {},
   "outputs": [],
   "source": [
    "import numpy as np"
   ]
  },
  {
   "cell_type": "code",
   "execution_count": 286,
   "metadata": {},
   "outputs": [],
   "source": [
    "#Create a boolean array\n",
    "arr_2b = np.array([1,0,1],dtype='bool')"
   ]
  },
  {
   "cell_type": "code",
   "execution_count": 287,
   "metadata": {},
   "outputs": [
    {
     "name": "stdout",
     "output_type": "stream",
     "text": [
      "arr_2b content: [ True False  True]\n"
     ]
    }
   ],
   "source": [
    "#Print content of arr2_b\n",
    "print(\"arr_2b content: {}\".format(arr_2b))"
   ]
  },
  {
   "cell_type": "code",
   "execution_count": 288,
   "metadata": {},
   "outputs": [
    {
     "name": "stdout",
     "output_type": "stream",
     "text": [
      "arr_2b shape: (3,)\n",
      "arr_2b type: bool\n"
     ]
    }
   ],
   "source": [
    "#Print arr_2b shape and type\n",
    "print (\"arr_2b shape: {}\".format(arr_2b.shape))\n",
    "print (\"arr_2b type: {}\".format(arr_2b.dtype))"
   ]
  },
  {
   "cell_type": "markdown",
   "metadata": {},
   "source": [
    "# Array Object"
   ]
  },
  {
   "cell_type": "code",
   "execution_count": 289,
   "metadata": {},
   "outputs": [],
   "source": [
    "import numpy as np\n",
    "\n",
    "#Create an object array to hold numbers as well as strings\n",
    "arr_obj = np.array([1, 'a'], dtype='object')"
   ]
  },
  {
   "cell_type": "code",
   "execution_count": 290,
   "metadata": {},
   "outputs": [
    {
     "name": "stdout",
     "output_type": "stream",
     "text": [
      "arr_obj content: [1 'a']\n"
     ]
    }
   ],
   "source": [
    "#Print content of arr_obj\n",
    "print(\"arr_obj content: {}\".format(arr_obj))"
   ]
  },
  {
   "cell_type": "code",
   "execution_count": 291,
   "metadata": {},
   "outputs": [
    {
     "name": "stdout",
     "output_type": "stream",
     "text": [
      "arr_obj shape: (2,)\n",
      "arr_obj type: object\n"
     ]
    }
   ],
   "source": [
    "#Print arr_obj shape and type\n",
    "print(\"arr_obj shape: {}\".format(arr_obj.shape))\n",
    "print(\"arr_obj type: {}\".format(arr_obj.dtype))"
   ]
  },
  {
   "cell_type": "markdown",
   "metadata": {},
   "source": [
    "# Array 2D vs 3D"
   ]
  },
  {
   "cell_type": "code",
   "execution_count": 292,
   "metadata": {},
   "outputs": [
    {
     "ename": "SyntaxError",
     "evalue": "invalid decimal literal (682185542.py, line 1)",
     "output_type": "error",
     "traceback": [
      "\u001b[1;36m  Cell \u001b[1;32mIn[292], line 1\u001b[1;36m\u001b[0m\n\u001b[1;33m    Create 2d NumPy array\u001b[0m\n\u001b[1;37m           ^\u001b[0m\n\u001b[1;31mSyntaxError\u001b[0m\u001b[1;31m:\u001b[0m invalid decimal literal\n"
     ]
    }
   ],
   "source": [
    "Create 2d NumPy array"
   ]
  },
  {
   "cell_type": "code",
   "execution_count": null,
   "metadata": {},
   "outputs": [],
   "source": [
    "import numpy as np\n",
    "\n",
    "#Create 2d NumPy array\n",
    "arr_2d = np.array([(1,2,3),(4,5,6)])"
   ]
  },
  {
   "cell_type": "code",
   "execution_count": null,
   "metadata": {},
   "outputs": [],
   "source": [
    "#Print content of arr_2d\n",
    "print(\"arr_2d content: {}\".format(arr_2d))"
   ]
  },
  {
   "cell_type": "code",
   "execution_count": null,
   "metadata": {},
   "outputs": [],
   "source": [
    "#Print arr_2d shape and type\n",
    "print (\"arr_2d shape: {}\".format(arr_2d.shape))\n",
    "print (\"arr_2d type: {}\".format(arr_2d.dtype))"
   ]
  },
  {
   "cell_type": "markdown",
   "metadata": {},
   "source": [
    "Create 3d NumPy array"
   ]
  },
  {
   "cell_type": "code",
   "execution_count": null,
   "metadata": {},
   "outputs": [],
   "source": [
    "import numpy as np\n",
    "\n",
    "#Create 3d NumPy array\n",
    "arr_3d = np.array([[[1, 2,3],[4, 5, 6]],[[7, 8,9],[10, 11, 12]]])"
   ]
  },
  {
   "cell_type": "code",
   "execution_count": null,
   "metadata": {},
   "outputs": [],
   "source": [
    "#Print content of arr_3d\n",
    "print(\"arr_3d content: {}\".format(arr_3d))"
   ]
  },
  {
   "cell_type": "code",
   "execution_count": null,
   "metadata": {},
   "outputs": [],
   "source": [
    "#Print arr_3d shape and type\n",
    "print (\"arr_3d shape: {}\".format(arr_3d.shape))\n",
    "print (\"arr_3d type: {}\".format(arr_3d.dtype))"
   ]
  },
  {
   "cell_type": "markdown",
   "metadata": {},
   "source": [
    "# Zeros Arrays NumPy"
   ]
  },
  {
   "cell_type": "markdown",
   "metadata": {},
   "source": [
    "Create 2d NumPy array af all zeros"
   ]
  },
  {
   "cell_type": "code",
   "execution_count": null,
   "metadata": {},
   "outputs": [],
   "source": [
    "import numpy as np\n",
    "\n",
    "#Create 2d NumPy array af all zeros\n",
    "arr_zeros = np.zeros(shape=(2,2),dtype=np.int8,order='C')"
   ]
  },
  {
   "cell_type": "code",
   "execution_count": null,
   "metadata": {},
   "outputs": [
    {
     "name": "stdout",
     "output_type": "stream",
     "text": [
      "arr_zeros content: [[0 0]\n",
      " [0 0]]\n"
     ]
    }
   ],
   "source": [
    "#Print content of arr_zeros\n",
    "print (\"arr_zeros content: {}\".format(arr_zeros))"
   ]
  },
  {
   "cell_type": "code",
   "execution_count": null,
   "metadata": {},
   "outputs": [
    {
     "name": "stdout",
     "output_type": "stream",
     "text": [
      "arr_zeros shape: (2, 2)\n",
      "arr_zeros type: int8\n"
     ]
    }
   ],
   "source": [
    "#Print arr_zeros shape and type\n",
    "print (\"arr_zeros shape: {}\".format(arr_zeros.shape))\n",
    "print (\"arr_zeros type: {}\".format(arr_zeros.dtype))"
   ]
  },
  {
   "cell_type": "markdown",
   "metadata": {},
   "source": [
    "# Ones Arrays NumPy"
   ]
  },
  {
   "cell_type": "code",
   "execution_count": null,
   "metadata": {},
   "outputs": [],
   "source": [
    "import numpy as np\n",
    "\n",
    "#Create 2d NumPy array af all ones\n",
    "arr_ones = np.ones(shape=(2,2),dtype=np.int8,order='C')"
   ]
  },
  {
   "cell_type": "code",
   "execution_count": null,
   "metadata": {},
   "outputs": [
    {
     "name": "stdout",
     "output_type": "stream",
     "text": [
      "arr_ones content: [[1 1]\n",
      " [1 1]]\n"
     ]
    }
   ],
   "source": [
    "#Print content of arr_ones\n",
    "print (\"arr_ones content: {}\".format(arr_ones))"
   ]
  },
  {
   "cell_type": "code",
   "execution_count": null,
   "metadata": {},
   "outputs": [
    {
     "name": "stdout",
     "output_type": "stream",
     "text": [
      "arr_ones shape: (2, 2)\n",
      "arr_ones type: int8\n"
     ]
    }
   ],
   "source": [
    "#Print arr_ones shape and type\n",
    "print (\"arr_ones shape: {}\".format(arr_ones.shape))\n",
    "print (\"arr_ones type: {}\".format(arr_ones.dtype))"
   ]
  },
  {
   "cell_type": "markdown",
   "metadata": {},
   "source": [
    "# Reshape Array"
   ]
  },
  {
   "cell_type": "code",
   "execution_count": null,
   "metadata": {},
   "outputs": [
    {
     "name": "stdout",
     "output_type": "stream",
     "text": [
      "arr_2d content: [[1 2 3]\n",
      " [4 5 6]]\n",
      "arr_2d shape: (2, 3)\n",
      "arr_2d type: int32\n"
     ]
    }
   ],
   "source": [
    "import numpy as np\n",
    "\n",
    "#Create 2d NumPy array\n",
    "arr_2d = np.array([(1,2,3), (4,5,6)])\n",
    "\n",
    "#Print content of arr_2d\n",
    "print (\"arr_2d content: {}\".format(arr_2d))\n",
    "\n",
    "#Print arr_2d shape and type\n",
    "print (\"arr_2d shape: {}\".format(arr_2d.shape))\n",
    "print (\"arr_2d type: {}\".format(arr_2d.dtype))"
   ]
  },
  {
   "cell_type": "markdown",
   "metadata": {},
   "source": [
    "Reshape a numpy Array"
   ]
  },
  {
   "cell_type": "code",
   "execution_count": null,
   "metadata": {},
   "outputs": [],
   "source": [
    "import numpy as np\n",
    "\n",
    "#Create 2d NumPy array\n",
    "arr_2d = np.array([(1,2,3), (4,5,6)])\n",
    "\n",
    "arr_2dr = arr_2d.reshape(3,2)"
   ]
  },
  {
   "cell_type": "code",
   "execution_count": null,
   "metadata": {},
   "outputs": [
    {
     "name": "stdout",
     "output_type": "stream",
     "text": [
      "arr_2dr content: [[1 2]\n",
      " [3 4]\n",
      " [5 6]]\n",
      "arr_2dr shape: (3, 2)\n",
      "arr_2dr type: int32\n"
     ]
    }
   ],
   "source": [
    "#Print content of arr_2dr\n",
    "print (\"arr_2dr content: {}\".format(arr_2dr))\n",
    "\n",
    "#Print arr_2dr shape and type\n",
    "print (\"arr_2dr shape: {}\".format(arr_2dr.shape))\n",
    "print (\"arr_2dr type: {}\".format(arr_2dr.dtype))"
   ]
  },
  {
   "cell_type": "markdown",
   "metadata": {},
   "source": [
    "# Flatten Array"
   ]
  },
  {
   "cell_type": "code",
   "execution_count": null,
   "metadata": {},
   "outputs": [
    {
     "name": "stdout",
     "output_type": "stream",
     "text": [
      "arr_2d content: [[1 2 3]\n",
      " [4 5 6]]\n",
      "arr_2d shape: (2, 3)\n",
      "arr_2d type: int32\n"
     ]
    }
   ],
   "source": [
    "import numpy as np\n",
    "\n",
    "#Create 2d NumPy array\n",
    "arr_2d = np.array([(1,2,3), (4,5,6)])\n",
    "\n",
    "#Print content of arr_2d\n",
    "print (\"arr_2d content: {}\".format(arr_2d))\n",
    "\n",
    "#Print arr_2d shape and type\n",
    "print (\"arr_2d shape: {}\".format(arr_2d.shape))\n",
    "print (\"arr_2d type: {}\".format(arr_2d.dtype))"
   ]
  },
  {
   "cell_type": "markdown",
   "metadata": {},
   "source": [
    "Flatten a numpy Array"
   ]
  },
  {
   "cell_type": "code",
   "execution_count": null,
   "metadata": {},
   "outputs": [],
   "source": [
    "import numpy as np\n",
    "\n",
    "#Create 2d NumPy array\n",
    "arr_2d = np.array([(1,2,3), (4,5,6)])\n",
    "\n",
    "arr_1d = arr_2d.flatten()"
   ]
  },
  {
   "cell_type": "code",
   "execution_count": null,
   "metadata": {},
   "outputs": [
    {
     "name": "stdout",
     "output_type": "stream",
     "text": [
      "arr_1d content: [1 2 3 4 5 6]\n",
      "arr_1d shape: (6,)\n",
      "arr_1d type: int32\n"
     ]
    }
   ],
   "source": [
    "#Print content of arr_1d\n",
    "print (\"arr_1d content: {}\".format(arr_1d))\n",
    "\n",
    "#Print arr_1d shape and type\n",
    "print (\"arr_1d shape: {}\".format(arr_1d.shape))\n",
    "print (\"arr_1d type: {}\".format(arr_1d.dtype))"
   ]
  },
  {
   "cell_type": "markdown",
   "metadata": {},
   "source": [
    "# Hstack vs Vstack"
   ]
  },
  {
   "cell_type": "code",
   "execution_count": null,
   "metadata": {},
   "outputs": [],
   "source": [
    "import numpy as np\n",
    "\n",
    "#Create two 2d NumPy array\n",
    "arr_1 = np.array([1,2,3])\n",
    "arr_2 = np.array([4,5,6])"
   ]
  },
  {
   "cell_type": "code",
   "execution_count": null,
   "metadata": {},
   "outputs": [
    {
     "name": "stdout",
     "output_type": "stream",
     "text": [
      "arr_1 content: [1 2 3]\n"
     ]
    }
   ],
   "source": [
    "#Print content of arr_1\n",
    "print (\"arr_1 content: {}\".format(arr_1))"
   ]
  },
  {
   "cell_type": "code",
   "execution_count": null,
   "metadata": {},
   "outputs": [
    {
     "name": "stdout",
     "output_type": "stream",
     "text": [
      "arr_2 content: [4 5 6]\n"
     ]
    }
   ],
   "source": [
    "#Print content of arr_2\n",
    "print (\"arr_2 content: {}\".format(arr_2))"
   ]
  },
  {
   "cell_type": "code",
   "execution_count": null,
   "metadata": {},
   "outputs": [
    {
     "name": "stdout",
     "output_type": "stream",
     "text": [
      "arr_1 shape: (3,)\n",
      "arr_1 type: int32\n"
     ]
    }
   ],
   "source": [
    "#Print arr_1 shape and type\n",
    "print (\"arr_1 shape: {}\".format(arr_1.shape))\n",
    "print (\"arr_1 type: {}\".format(arr_1.dtype))"
   ]
  },
  {
   "cell_type": "code",
   "execution_count": null,
   "metadata": {},
   "outputs": [
    {
     "name": "stdout",
     "output_type": "stream",
     "text": [
      "arr_2 shape: (3,)\n",
      "arr_2 type: int32\n"
     ]
    }
   ],
   "source": [
    "#Print arr_2 shape and type\n",
    "print (\"arr_2 shape: {}\".format(arr_2.shape))\n",
    "print (\"arr_2 type: {}\".format(arr_2.dtype))"
   ]
  },
  {
   "cell_type": "markdown",
   "metadata": {},
   "source": [
    "Hstack: Horizontal Append"
   ]
  },
  {
   "cell_type": "code",
   "execution_count": null,
   "metadata": {},
   "outputs": [
    {
     "name": "stdout",
     "output_type": "stream",
     "text": [
      "Horizontal Append: [1 2 3 4 5 6]\n"
     ]
    }
   ],
   "source": [
    "happ = np.hstack((arr_1,arr_2))\n",
    "print (\"Horizontal Append: {}\".format(happ))"
   ]
  },
  {
   "cell_type": "markdown",
   "metadata": {},
   "source": [
    "Vstack: Vertical Append"
   ]
  },
  {
   "cell_type": "code",
   "execution_count": null,
   "metadata": {},
   "outputs": [
    {
     "name": "stdout",
     "output_type": "stream",
     "text": [
      "Vertical Append: [[1 2 3]\n",
      " [4 5 6]]\n"
     ]
    }
   ],
   "source": [
    "vapp = np.vstack((arr_1,arr_2))\n",
    "print (\"Vertical Append: {}\".format(vapp))"
   ]
  },
  {
   "cell_type": "markdown",
   "metadata": {},
   "source": [
    "# How to create and edit Numpy Array"
   ]
  },
  {
   "cell_type": "markdown",
   "metadata": {},
   "source": [
    "## Asarray"
   ]
  },
  {
   "cell_type": "code",
   "execution_count": null,
   "metadata": {},
   "outputs": [
    {
     "name": "stdout",
     "output_type": "stream",
     "text": [
      "A content: [[1. 1. 1. 1.]\n",
      " [1. 1. 1. 1.]\n",
      " [1. 1. 1. 1.]\n",
      " [1. 1. 1. 1.]]\n"
     ]
    }
   ],
   "source": [
    "import numpy as np\n",
    "\n",
    "#Create matrix of all ones\n",
    "A = np.matrix(np.ones((4,4)))\n",
    "\n",
    "#Print content of A\n",
    "print (\"A content: {}\".format(A))"
   ]
  },
  {
   "cell_type": "markdown",
   "metadata": {},
   "source": [
    "The change is made on the third line because the indexing starts at 0"
   ]
  },
  {
   "cell_type": "markdown",
   "metadata": {},
   "source": [
    "Convert the input to an array to make change "
   ]
  },
  {
   "cell_type": "code",
   "execution_count": null,
   "metadata": {},
   "outputs": [],
   "source": [
    "#The change is made on the third line because the indexing starts at 0\n",
    "np.asarray(A)[2] = 2"
   ]
  },
  {
   "cell_type": "code",
   "execution_count": null,
   "metadata": {},
   "outputs": [
    {
     "name": "stdout",
     "output_type": "stream",
     "text": [
      "A content after the change: [[1. 1. 1. 1.]\n",
      " [1. 1. 1. 1.]\n",
      " [2. 2. 2. 2.]\n",
      " [1. 1. 1. 1.]]\n"
     ]
    }
   ],
   "source": [
    "#Print content A after the change\n",
    "print(\"A content after the change: {}\".format(A))"
   ]
  },
  {
   "cell_type": "markdown",
   "metadata": {},
   "source": [
    "## Arange"
   ]
  },
  {
   "cell_type": "code",
   "execution_count": null,
   "metadata": {},
   "outputs": [
    {
     "name": "stdout",
     "output_type": "stream",
     "text": [
      "arr content: [ 1  2  3  4  5  6  7  8  9 10]\n"
     ]
    }
   ],
   "source": [
    "import numpy as np\n",
    "\n",
    "#Create array with numpy.arange() of 10 elements\n",
    "arr = np.arange(1, 11)\n",
    "\n",
    "#Print content of arr\n",
    "print (\"arr content: {}\".format(arr))"
   ]
  },
  {
   "cell_type": "markdown",
   "metadata": {},
   "source": [
    "Create array with numpy.arange() of 4 elements and step = 4"
   ]
  },
  {
   "cell_type": "code",
   "execution_count": null,
   "metadata": {},
   "outputs": [],
   "source": [
    "#Create array with numpy.arange() of 4 elements and step = 4\n",
    "arr_1 = np.arange(1, 14,4)"
   ]
  },
  {
   "cell_type": "code",
   "execution_count": null,
   "metadata": {},
   "outputs": [
    {
     "name": "stdout",
     "output_type": "stream",
     "text": [
      "arr_1 content (step = 4): [ 1  5  9 13]\n"
     ]
    }
   ],
   "source": [
    "#Print content of arr_1\n",
    "print (\"arr_1 content (step = 4): {}\".format(arr_1))"
   ]
  },
  {
   "cell_type": "markdown",
   "metadata": {},
   "source": [
    "## Linspace"
   ]
  },
  {
   "cell_type": "code",
   "execution_count": null,
   "metadata": {},
   "outputs": [],
   "source": [
    "import numpy as np\n",
    "\n",
    "#Create array with numpy.linspace() of 10 elements\n",
    "arr = np.linspace(1.0, 5.0, num=10)"
   ]
  },
  {
   "cell_type": "markdown",
   "metadata": {},
   "source": [
    "Return evenly spaced numbers over a specified interval."
   ]
  },
  {
   "cell_type": "markdown",
   "metadata": {},
   "source": [
    "Returns num evenly spaced samples, calculated over the interval [start, stop]."
   ]
  },
  {
   "cell_type": "code",
   "execution_count": null,
   "metadata": {},
   "outputs": [
    {
     "name": "stdout",
     "output_type": "stream",
     "text": [
      "arr content: [1.         1.44444444 1.88888889 2.33333333 2.77777778 3.22222222\n",
      " 3.66666667 4.11111111 4.55555556 5.        ]\n"
     ]
    }
   ],
   "source": [
    "#Print content of arr\n",
    "print (\"arr content: {}\".format(arr))"
   ]
  },
  {
   "cell_type": "code",
   "execution_count": null,
   "metadata": {},
   "outputs": [],
   "source": [
    "#Create array with numpy.linspace() of 5 with endpoint=False\n",
    "arr_1 = np.linspace(1.0, 5.0, num=5, endpoint=False)"
   ]
  },
  {
   "cell_type": "code",
   "execution_count": null,
   "metadata": {},
   "outputs": [
    {
     "name": "stdout",
     "output_type": "stream",
     "text": [
      "arr_1 content: [1.  1.8 2.6 3.4 4.2]\n"
     ]
    }
   ],
   "source": [
    "# Print content of arr_1\n",
    "print (\"arr_1 content: {}\".format(arr_1))"
   ]
  },
  {
   "cell_type": "markdown",
   "metadata": {},
   "source": [
    "## Logspace"
   ]
  },
  {
   "cell_type": "markdown",
   "metadata": {},
   "source": [
    "Return numbers spaced evenly on a log scale."
   ]
  },
  {
   "cell_type": "code",
   "execution_count": null,
   "metadata": {},
   "outputs": [],
   "source": [
    "import numpy as np\n",
    "\n",
    "#Create array with numpy.logspace() of 4 elements\n",
    "arr = np.logspace(3.0, 4.0, num=4)"
   ]
  },
  {
   "cell_type": "code",
   "execution_count": null,
   "metadata": {},
   "outputs": [
    {
     "name": "stdout",
     "output_type": "stream",
     "text": [
      "arr content: [ 1000.          2154.43469003  4641.58883361 10000.        ]\n"
     ]
    }
   ],
   "source": [
    "#Print content of arr\n",
    "print (\"arr content: {}\".format(arr))"
   ]
  },
  {
   "cell_type": "markdown",
   "metadata": {},
   "source": [
    "# Indicizzazione"
   ]
  },
  {
   "cell_type": "code",
   "execution_count": null,
   "metadata": {},
   "outputs": [],
   "source": [
    "import numpy as np\n",
    "\n",
    "#Create 2d NumPy array\n",
    "arr_2d = np.array([(1,2,3), (4,5,6)])"
   ]
  },
  {
   "cell_type": "markdown",
   "metadata": {},
   "source": [
    "Print content"
   ]
  },
  {
   "cell_type": "code",
   "execution_count": null,
   "metadata": {},
   "outputs": [],
   "source": [
    "#Print content of arr_2d\n",
    "print (\"arr_2d content: {}\".format(arr_2d))"
   ]
  },
  {
   "cell_type": "markdown",
   "metadata": {},
   "source": [
    "Print first row"
   ]
  },
  {
   "cell_type": "code",
   "execution_count": null,
   "metadata": {},
   "outputs": [],
   "source": [
    "#Print first row of arr_2d\n",
    "print (\"first row of arr_2d: {}\".format(arr_2d[0]))"
   ]
  },
  {
   "cell_type": "markdown",
   "metadata": {},
   "source": [
    "Print second row"
   ]
  },
  {
   "cell_type": "code",
   "execution_count": null,
   "metadata": {},
   "outputs": [],
   "source": [
    "#Print second row of arr_2d\n",
    "print (\"second row of arr_2d: {}\".format(arr_2d[1]))"
   ]
  },
  {
   "cell_type": "markdown",
   "metadata": {},
   "source": [
    "Print first column"
   ]
  },
  {
   "cell_type": "code",
   "execution_count": null,
   "metadata": {},
   "outputs": [],
   "source": [
    "#Print first column of arr_2d\n",
    "print (\"first column of arr_2d: {}\".format(arr_2d[:,0]))"
   ]
  },
  {
   "cell_type": "markdown",
   "metadata": {},
   "source": [
    "Print second column"
   ]
  },
  {
   "cell_type": "code",
   "execution_count": null,
   "metadata": {},
   "outputs": [],
   "source": [
    "#Print second column of arr_2d\n",
    "print (\"second column of arr_2d: {}\".format(arr_2d[:,1]))"
   ]
  },
  {
   "cell_type": "markdown",
   "metadata": {},
   "source": [
    "Print third column"
   ]
  },
  {
   "cell_type": "code",
   "execution_count": null,
   "metadata": {},
   "outputs": [],
   "source": [
    "#Print third column of arr_2d\n",
    "print (\"third column of arr_2d: {}\".format(arr_2d[:,2]))"
   ]
  },
  {
   "cell_type": "markdown",
   "metadata": {},
   "source": [
    "Print first two elements of the second row"
   ]
  },
  {
   "cell_type": "code",
   "execution_count": null,
   "metadata": {},
   "outputs": [],
   "source": [
    "#Print first two elements of the second row of arr_2d\n",
    "print (\"first two elements of arr_2d: {}\".format(arr_2d[1,:2]))"
   ]
  },
  {
   "cell_type": "markdown",
   "metadata": {},
   "source": [
    "# Funzioni Statistiche"
   ]
  },
  {
   "cell_type": "markdown",
   "metadata": {},
   "source": [
    "## Normal distribution"
   ]
  },
  {
   "cell_type": "code",
   "execution_count": null,
   "metadata": {},
   "outputs": [],
   "source": [
    "import numpy as np\n",
    "\n",
    "#Generate random number from normal distribution\n",
    "normal_array = np.random.normal(5, 0.5, 10)"
   ]
  },
  {
   "cell_type": "code",
   "execution_count": null,
   "metadata": {},
   "outputs": [],
   "source": [
    "#Print content of normal_array\n",
    "print (\"normal_array content: {}\".format(normal_array))"
   ]
  },
  {
   "cell_type": "markdown",
   "metadata": {},
   "source": [
    "Min"
   ]
  },
  {
   "cell_type": "code",
   "execution_count": null,
   "metadata": {},
   "outputs": [],
   "source": [
    "#Min\n",
    "print(\"normal_array min: {}\".format(np.min(normal_array)))"
   ]
  },
  {
   "cell_type": "markdown",
   "metadata": {},
   "source": [
    "Max"
   ]
  },
  {
   "cell_type": "code",
   "execution_count": null,
   "metadata": {},
   "outputs": [],
   "source": [
    "#Max\n",
    "print(\"normal_array max: {}\".format(np.max(normal_array)))"
   ]
  },
  {
   "cell_type": "markdown",
   "metadata": {},
   "source": [
    "Mean"
   ]
  },
  {
   "cell_type": "code",
   "execution_count": null,
   "metadata": {},
   "outputs": [],
   "source": [
    "#Mean\n",
    "print(\"normal_array mean: {}\".format(np.mean(normal_array)))"
   ]
  },
  {
   "cell_type": "markdown",
   "metadata": {},
   "source": [
    "Median"
   ]
  },
  {
   "cell_type": "code",
   "execution_count": null,
   "metadata": {},
   "outputs": [],
   "source": [
    "#Median\n",
    "print(\"normal_array median: {}\".format(np.median(normal_array)))"
   ]
  },
  {
   "cell_type": "markdown",
   "metadata": {},
   "source": [
    "Standard deviation"
   ]
  },
  {
   "cell_type": "code",
   "execution_count": null,
   "metadata": {},
   "outputs": [],
   "source": [
    "#Standard deviation\n",
    "print(\"normal_array standard deviation: {}\".format(np.std(normal_array)))"
   ]
  }
 ],
 "metadata": {
  "kernelspec": {
   "display_name": "base",
   "language": "python",
   "name": "python3"
  },
  "language_info": {
   "codemirror_mode": {
    "name": "ipython",
    "version": 3
   },
   "file_extension": ".py",
   "mimetype": "text/x-python",
   "name": "python",
   "nbconvert_exporter": "python",
   "pygments_lexer": "ipython3",
   "version": "3.12.7"
  }
 },
 "nbformat": 4,
 "nbformat_minor": 2
}
