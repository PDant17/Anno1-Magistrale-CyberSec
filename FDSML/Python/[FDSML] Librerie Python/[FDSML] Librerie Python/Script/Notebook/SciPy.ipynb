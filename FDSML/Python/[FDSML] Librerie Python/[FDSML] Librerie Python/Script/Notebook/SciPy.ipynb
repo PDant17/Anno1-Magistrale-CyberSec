{
 "cells": [
  {
   "cell_type": "markdown",
   "metadata": {},
   "source": [
    "# Scipy"
   ]
  },
  {
   "cell_type": "code",
   "execution_count": null,
   "metadata": {},
   "outputs": [],
   "source": [
    "pip install scipy"
   ]
  },
  {
   "cell_type": "markdown",
   "metadata": {},
   "source": [
    "Version"
   ]
  },
  {
   "cell_type": "code",
   "execution_count": null,
   "metadata": {},
   "outputs": [],
   "source": [
    "import scipy as sp\n",
    "\n",
    "print(\"SciPy version:{}\".format(sp.__version__))"
   ]
  },
  {
   "cell_type": "markdown",
   "metadata": {},
   "source": [
    "## Find Cubic Root"
   ]
  },
  {
   "cell_type": "code",
   "execution_count": 1,
   "metadata": {},
   "outputs": [],
   "source": [
    "from scipy.special import cbrt\n",
    "\n",
    "#Find cubic root of 27 & 64 using cbrt() function\n",
    "cubic_root = cbrt([27, 64])"
   ]
  },
  {
   "cell_type": "code",
   "execution_count": 2,
   "metadata": {},
   "outputs": [
    {
     "name": "stdout",
     "output_type": "stream",
     "text": [
      "cubic roots: [3. 4.]\n"
     ]
    }
   ],
   "source": [
    "#Print content of cubic_root\n",
    "print(\"cubic roots: {}\".format(cubic_root))"
   ]
  },
  {
   "cell_type": "markdown",
   "metadata": {},
   "source": [
    "## Exponential Values"
   ]
  },
  {
   "cell_type": "code",
   "execution_count": null,
   "metadata": {},
   "outputs": [],
   "source": [
    "from scipy.special import exp10\n",
    "\n",
    "#Define exp10 function and pass value in its\n",
    "exp_values = exp10([1,10])"
   ]
  },
  {
   "cell_type": "code",
   "execution_count": null,
   "metadata": {},
   "outputs": [],
   "source": [
    "#Print content of exp_values\n",
    "print(\"exponential values: {}\".format(exp_values))"
   ]
  },
  {
   "cell_type": "markdown",
   "metadata": {},
   "source": [
    "## Combinantion"
   ]
  },
  {
   "cell_type": "markdown",
   "metadata": {},
   "source": [
    "The number of combinations of N things taken k at a time."
   ]
  },
  {
   "cell_type": "markdown",
   "metadata": {},
   "source": [
    "Funzione che calcola il numero di combinazioni (o sottoinsiemi) possibili di un insieme di N elementi, presi k alla volta. "
   ]
  },
  {
   "cell_type": "code",
   "execution_count": 5,
   "metadata": {},
   "outputs": [],
   "source": [
    "from scipy.special import comb\n",
    "\n",
    "#Find combinations of 5, 2 values using comb(N, k)\n",
    "com = comb(N=5, k=2, exact = False, repetition=True)"
   ]
  },
  {
   "cell_type": "markdown",
   "metadata": {},
   "source": [
    "La funzione calcola il numero di combinazioni di 2 elementi scelti da un insieme di 5 elementi, con ripetizione."
   ]
  },
  {
   "cell_type": "markdown",
   "metadata": {},
   "source": [
    "La formula per calcolare le combinazioni con ripetizione è: \n",
    "\n",
    "$ \\binom{N+k-1}{k} $\n"
   ]
  },
  {
   "cell_type": "code",
   "execution_count": 6,
   "metadata": {},
   "outputs": [
    {
     "name": "stdout",
     "output_type": "stream",
     "text": [
      "combination value: 15.0\n"
     ]
    }
   ],
   "source": [
    "#Print content of com\n",
    "print(\"combination value: {}\".format(com))"
   ]
  },
  {
   "cell_type": "markdown",
   "metadata": {},
   "source": [
    "## Matrix determinant"
   ]
  },
  {
   "cell_type": "code",
   "execution_count": null,
   "metadata": {},
   "outputs": [],
   "source": [
    "from scipy import linalg\n",
    "import numpy as np\n",
    "\n",
    "#Define 2d NumPy array\n",
    "arr_2d = np.array([ (4,5), (3,2) ])"
   ]
  },
  {
   "cell_type": "code",
   "execution_count": null,
   "metadata": {},
   "outputs": [],
   "source": [
    "#Print content of arr_2\n",
    "print (\"arr_2d content: {}\".format(arr_2d))"
   ]
  },
  {
   "cell_type": "code",
   "execution_count": null,
   "metadata": {},
   "outputs": [],
   "source": [
    "#Pass values to det() function\n",
    "det = linalg.det(arr_2d)"
   ]
  },
  {
   "cell_type": "code",
   "execution_count": null,
   "metadata": {},
   "outputs": [],
   "source": [
    "#Print content of det\n",
    "print (\"matrix determinant: {}\".format(det))"
   ]
  },
  {
   "cell_type": "markdown",
   "metadata": {},
   "source": [
    "## Inverse matrix"
   ]
  },
  {
   "cell_type": "code",
   "execution_count": null,
   "metadata": {},
   "outputs": [],
   "source": [
    "from scipy import linalg\n",
    "import numpy as np\n",
    "\n",
    "#Define 2d NumPy array\n",
    "arr_2d = np.array([ [4,5], [3,2] ])"
   ]
  },
  {
   "cell_type": "code",
   "execution_count": null,
   "metadata": {},
   "outputs": [],
   "source": [
    "#Print content of arr_2d\n",
    "print (\"arr_2d content: {}\".format(arr_2d))"
   ]
  },
  {
   "cell_type": "code",
   "execution_count": null,
   "metadata": {},
   "outputs": [],
   "source": [
    "#Pass value to function inv()\n",
    "inv = linalg.inv( arr_2d )"
   ]
  },
  {
   "cell_type": "code",
   "execution_count": null,
   "metadata": {},
   "outputs": [],
   "source": [
    "#Print content of inv\n",
    "print (\"inverse matrix : {}\".format(inv))"
   ]
  },
  {
   "cell_type": "markdown",
   "metadata": {},
   "source": [
    "## Autovalori vs Autovettori"
   ]
  },
  {
   "cell_type": "code",
   "execution_count": null,
   "metadata": {},
   "outputs": [],
   "source": [
    "from scipy import linalg\n",
    "import numpy as np\n",
    "\n",
    "#Define 2d NumPy array\n",
    "arr_2d = np.array([[5,4],[6,3]])"
   ]
  },
  {
   "cell_type": "code",
   "execution_count": null,
   "metadata": {},
   "outputs": [],
   "source": [
    "#Pass value into function eig()\n",
    "eg_val, eg_vect = linalg.eig(arr_2d)"
   ]
  },
  {
   "cell_type": "code",
   "execution_count": null,
   "metadata": {},
   "outputs": [],
   "source": [
    "#Print content of eg_val\n",
    "print(\"eigenvalues: {}\".format(eg_val))"
   ]
  },
  {
   "cell_type": "code",
   "execution_count": null,
   "metadata": {},
   "outputs": [],
   "source": [
    "#Print content of eg_vect\n",
    "print(\"eigenvectors: {}\".format(eg_vect))"
   ]
  },
  {
   "cell_type": "markdown",
   "metadata": {},
   "source": [
    "# Integrazione Numerica Parte 1"
   ]
  },
  {
   "cell_type": "markdown",
   "metadata": {},
   "source": [
    "il modulo integrate dalla libreria scipy, che fornisce funzioni per eseguire integrazioni numeriche. Una delle funzioni principali di questo modulo è quad, che permette di calcolare l'integrale definito di una funzione."
   ]
  },
  {
   "cell_type": "markdown",
   "metadata": {},
   "source": [
    "Definizione della funzione da integrare"
   ]
  },
  {
   "cell_type": "code",
   "execution_count": 10,
   "metadata": {},
   "outputs": [],
   "source": [
    "from scipy import integrate\n",
    "\n",
    "# Take f(x) function as f\n",
    "f = lambda x : x**2"
   ]
  },
  {
   "cell_type": "markdown",
   "metadata": {},
   "source": [
    "stiamo definendo una funzione usando una lambda function (funzione anonima). La funzione è molto semplice: restituisce x^2, quindi  \n",
    "𝑓(𝑥)=x^2."
   ]
  },
  {
   "cell_type": "markdown",
   "metadata": {},
   "source": [
    "La funzione integrate.quad viene utilizzata per calcolare l'integrale definito di una funzione su un intervallo. "
   ]
  },
  {
   "cell_type": "code",
   "execution_count": 12,
   "metadata": {},
   "outputs": [],
   "source": [
    "#Single integration with a = 0 & b = 1\n",
    "integration = integrate.quad(f, 0 , 1)"
   ]
  },
  {
   "cell_type": "markdown",
   "metadata": {},
   "source": [
    "La variabile integration è una tupla, quindi il risultato che verrà stampato avrà il seguente formato:"
   ]
  },
  {
   "cell_type": "markdown",
   "metadata": {},
   "source": [
    "Integrazione analitica:\n",
    "\n",
    "Se calcoliamo l'integrale manualmente:"
   ]
  },
  {
   "cell_type": "markdown",
   "metadata": {},
   "source": [
    "$\n",
    "\\int_0^1 x^2 \\, dx = \\left[ \\frac{x^3}{3} \\right]_0^1 = \\frac{1^3}{3} - \\frac{0^3}{3} = \\frac{1}{3}\n",
    "$"
   ]
  },
  {
   "cell_type": "code",
   "execution_count": 13,
   "metadata": {},
   "outputs": [
    {
     "name": "stdout",
     "output_type": "stream",
     "text": [
      "integration:(0.33333333333333337, 3.700743415417189e-15)\n"
     ]
    }
   ],
   "source": [
    "#Print content of integration\n",
    "print(\"integration:{}\".format(integration))"
   ]
  },
  {
   "cell_type": "markdown",
   "metadata": {},
   "source": [
    "- 0.33333333333333337 è il valore calcolato numericamente dell'integrale.\n",
    "- 3.700743415417189e-11 è una stima dell'errore numerico associato al calcolo."
   ]
  },
  {
   "cell_type": "markdown",
   "metadata": {},
   "source": [
    "# Integrazione Numerica Parte 2"
   ]
  },
  {
   "cell_type": "markdown",
   "metadata": {},
   "source": [
    "Perform double integration"
   ]
  },
  {
   "cell_type": "code",
   "execution_count": null,
   "metadata": {},
   "outputs": [],
   "source": [
    "from scipy import integrate\n",
    "\n",
    "#Import square root function from math lib\n",
    "from math import sqrt"
   ]
  },
  {
   "cell_type": "code",
   "execution_count": null,
   "metadata": {},
   "outputs": [],
   "source": [
    "# set  function f(x)\n",
    "f = lambda x, y : 64 *x*y\n",
    "\n",
    "# Lower limit of second integral\n",
    "p = lambda x : 0\n",
    "\n",
    "# Upper limit of first integral\n",
    "q = lambda y : sqrt(1 - 2*y**2)"
   ]
  },
  {
   "cell_type": "code",
   "execution_count": null,
   "metadata": {},
   "outputs": [],
   "source": [
    "# Perform double integration\n",
    "integration = integrate.dblquad(f , 0 , 2/4,  p, q)"
   ]
  },
  {
   "cell_type": "code",
   "execution_count": null,
   "metadata": {},
   "outputs": [],
   "source": [
    "#Print content of integration\n",
    "print(\"integration: {}\".format(integration))"
   ]
  }
 ],
 "metadata": {
  "kernelspec": {
   "display_name": "base",
   "language": "python",
   "name": "python3"
  },
  "language_info": {
   "codemirror_mode": {
    "name": "ipython",
    "version": 3
   },
   "file_extension": ".py",
   "mimetype": "text/x-python",
   "name": "python",
   "nbconvert_exporter": "python",
   "pygments_lexer": "ipython3",
   "version": "3.12.7"
  }
 },
 "nbformat": 4,
 "nbformat_minor": 2
}
